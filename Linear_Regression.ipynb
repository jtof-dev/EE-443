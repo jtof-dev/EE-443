{
  "cells": [
    {
      "cell_type": "markdown",
      "id": "18156290",
      "metadata": {
        "id": "18156290"
      },
      "source": [
        "\n",
        "# Linear Regression\n",
        "\n",
        "<a target=\"_blank\" href=\"https://colab.research.google.com/github/mayankbakshi/EE443-543/blob/main/Linear-Regression.ipynb?authuser=5\">\n",
        "<img src=\"https://colab.research.google.com/assets/colab-badge.svg\" alt=\"Open In Colab\"/>\n",
        "</a>\n"
      ]
    },
    {
      "cell_type": "markdown",
      "id": "7c62aa70",
      "metadata": {
        "id": "7c62aa70"
      },
      "source": [
        "## Importing packages\n",
        "We import our standard libraries at this top\n",
        "level."
      ]
    },
    {
      "cell_type": "code",
      "execution_count": 49,
      "id": "c5fcfd8f",
      "metadata": {
        "execution": {
          "iopub.execute_input": "2024-06-04T23:19:06.947153Z",
          "iopub.status.busy": "2024-06-04T23:19:06.946906Z",
          "iopub.status.idle": "2024-06-04T23:19:07.382217Z",
          "shell.execute_reply": "2024-06-04T23:19:07.381975Z"
        },
        "lines_to_next_cell": 2,
        "id": "c5fcfd8f"
      },
      "outputs": [],
      "source": [
        "import numpy as np\n",
        "import pandas as pd\n",
        "import matplotlib.pyplot as plt\n",
        "from matplotlib.pyplot import subplots\n"
      ]
    },
    {
      "cell_type": "markdown",
      "id": "bc3e353a",
      "metadata": {
        "id": "bc3e353a"
      },
      "source": [
        "### New imports\n",
        "Throughout this lab we will introduce new functions and libraries. However,\n",
        "we will import them here to emphasize these are the new\n",
        "code objects in this lab. Keeping imports near the top\n",
        "of a notebook makes the code more readable, since scanning the first few\n",
        "lines tells us what libraries are used."
      ]
    },
    {
      "cell_type": "code",
      "execution_count": 38,
      "id": "42cfb62e",
      "metadata": {
        "execution": {
          "iopub.execute_input": "2024-06-04T23:19:07.383806Z",
          "iopub.status.busy": "2024-06-04T23:19:07.383707Z",
          "iopub.status.idle": "2024-06-04T23:19:07.847757Z",
          "shell.execute_reply": "2024-06-04T23:19:07.847487Z"
        },
        "lines_to_next_cell": 0,
        "id": "42cfb62e"
      },
      "outputs": [],
      "source": [
        "import statsmodels.api as sm\n"
      ]
    },
    {
      "cell_type": "code",
      "source": [
        "pip install islp"
      ],
      "metadata": {
        "colab": {
          "base_uri": "https://localhost:8080/"
        },
        "id": "xCljQkRjhQsn",
        "outputId": "cde3c7a7-3e08-4409-d048-8c5319cc0165"
      },
      "id": "xCljQkRjhQsn",
      "execution_count": 39,
      "outputs": [
        {
          "output_type": "stream",
          "name": "stdout",
          "text": [
            "Requirement already satisfied: islp in /usr/local/lib/python3.12/dist-packages (0.4.0)\n",
            "Requirement already satisfied: numpy>=1.7.1 in /usr/local/lib/python3.12/dist-packages (from islp) (2.0.2)\n",
            "Requirement already satisfied: scipy>=0.9 in /usr/local/lib/python3.12/dist-packages (from islp) (1.16.1)\n",
            "Requirement already satisfied: pandas>=0.20 in /usr/local/lib/python3.12/dist-packages (from islp) (2.2.2)\n",
            "Requirement already satisfied: lxml in /usr/local/lib/python3.12/dist-packages (from islp) (5.4.0)\n",
            "Requirement already satisfied: scikit-learn>=1.2 in /usr/local/lib/python3.12/dist-packages (from islp) (1.6.1)\n",
            "Requirement already satisfied: joblib in /usr/local/lib/python3.12/dist-packages (from islp) (1.5.1)\n",
            "Requirement already satisfied: statsmodels>=0.13 in /usr/local/lib/python3.12/dist-packages (from islp) (0.14.5)\n",
            "Requirement already satisfied: lifelines in /usr/local/lib/python3.12/dist-packages (from islp) (0.30.0)\n",
            "Requirement already satisfied: pygam in /usr/local/lib/python3.12/dist-packages (from islp) (0.10.1)\n",
            "Requirement already satisfied: torch in /usr/local/lib/python3.12/dist-packages (from islp) (2.8.0+cu126)\n",
            "Requirement already satisfied: pytorch-lightning in /usr/local/lib/python3.12/dist-packages (from islp) (2.5.3)\n",
            "Requirement already satisfied: torchmetrics in /usr/local/lib/python3.12/dist-packages (from islp) (1.8.1)\n",
            "Requirement already satisfied: python-dateutil>=2.8.2 in /usr/local/lib/python3.12/dist-packages (from pandas>=0.20->islp) (2.9.0.post0)\n",
            "Requirement already satisfied: pytz>=2020.1 in /usr/local/lib/python3.12/dist-packages (from pandas>=0.20->islp) (2025.2)\n",
            "Requirement already satisfied: tzdata>=2022.7 in /usr/local/lib/python3.12/dist-packages (from pandas>=0.20->islp) (2025.2)\n",
            "Requirement already satisfied: threadpoolctl>=3.1.0 in /usr/local/lib/python3.12/dist-packages (from scikit-learn>=1.2->islp) (3.6.0)\n",
            "Requirement already satisfied: patsy>=0.5.6 in /usr/local/lib/python3.12/dist-packages (from statsmodels>=0.13->islp) (1.0.1)\n",
            "Requirement already satisfied: packaging>=21.3 in /usr/local/lib/python3.12/dist-packages (from statsmodels>=0.13->islp) (25.0)\n",
            "Requirement already satisfied: matplotlib>=3.0 in /usr/local/lib/python3.12/dist-packages (from lifelines->islp) (3.10.0)\n",
            "Requirement already satisfied: autograd>=1.5 in /usr/local/lib/python3.12/dist-packages (from lifelines->islp) (1.8.0)\n",
            "Requirement already satisfied: autograd-gamma>=0.3 in /usr/local/lib/python3.12/dist-packages (from lifelines->islp) (0.5.0)\n",
            "Requirement already satisfied: formulaic>=0.2.2 in /usr/local/lib/python3.12/dist-packages (from lifelines->islp) (1.2.0)\n",
            "Requirement already satisfied: progressbar2<5,>=4.2.0 in /usr/local/lib/python3.12/dist-packages (from pygam->islp) (4.5.0)\n",
            "Requirement already satisfied: tqdm>=4.57.0 in /usr/local/lib/python3.12/dist-packages (from pytorch-lightning->islp) (4.67.1)\n",
            "Requirement already satisfied: PyYAML>5.4 in /usr/local/lib/python3.12/dist-packages (from pytorch-lightning->islp) (6.0.2)\n",
            "Requirement already satisfied: fsspec>=2022.5.0 in /usr/local/lib/python3.12/dist-packages (from fsspec[http]>=2022.5.0->pytorch-lightning->islp) (2025.3.0)\n",
            "Requirement already satisfied: typing-extensions>4.5.0 in /usr/local/lib/python3.12/dist-packages (from pytorch-lightning->islp) (4.15.0)\n",
            "Requirement already satisfied: lightning-utilities>=0.10.0 in /usr/local/lib/python3.12/dist-packages (from pytorch-lightning->islp) (0.15.2)\n",
            "Requirement already satisfied: filelock in /usr/local/lib/python3.12/dist-packages (from torch->islp) (3.19.1)\n",
            "Requirement already satisfied: setuptools in /usr/local/lib/python3.12/dist-packages (from torch->islp) (75.2.0)\n",
            "Requirement already satisfied: sympy>=1.13.3 in /usr/local/lib/python3.12/dist-packages (from torch->islp) (1.13.3)\n",
            "Requirement already satisfied: networkx in /usr/local/lib/python3.12/dist-packages (from torch->islp) (3.5)\n",
            "Requirement already satisfied: jinja2 in /usr/local/lib/python3.12/dist-packages (from torch->islp) (3.1.6)\n",
            "Requirement already satisfied: nvidia-cuda-nvrtc-cu12==12.6.77 in /usr/local/lib/python3.12/dist-packages (from torch->islp) (12.6.77)\n",
            "Requirement already satisfied: nvidia-cuda-runtime-cu12==12.6.77 in /usr/local/lib/python3.12/dist-packages (from torch->islp) (12.6.77)\n",
            "Requirement already satisfied: nvidia-cuda-cupti-cu12==12.6.80 in /usr/local/lib/python3.12/dist-packages (from torch->islp) (12.6.80)\n",
            "Requirement already satisfied: nvidia-cudnn-cu12==9.10.2.21 in /usr/local/lib/python3.12/dist-packages (from torch->islp) (9.10.2.21)\n",
            "Requirement already satisfied: nvidia-cublas-cu12==12.6.4.1 in /usr/local/lib/python3.12/dist-packages (from torch->islp) (12.6.4.1)\n",
            "Requirement already satisfied: nvidia-cufft-cu12==11.3.0.4 in /usr/local/lib/python3.12/dist-packages (from torch->islp) (11.3.0.4)\n",
            "Requirement already satisfied: nvidia-curand-cu12==10.3.7.77 in /usr/local/lib/python3.12/dist-packages (from torch->islp) (10.3.7.77)\n",
            "Requirement already satisfied: nvidia-cusolver-cu12==11.7.1.2 in /usr/local/lib/python3.12/dist-packages (from torch->islp) (11.7.1.2)\n",
            "Requirement already satisfied: nvidia-cusparse-cu12==12.5.4.2 in /usr/local/lib/python3.12/dist-packages (from torch->islp) (12.5.4.2)\n",
            "Requirement already satisfied: nvidia-cusparselt-cu12==0.7.1 in /usr/local/lib/python3.12/dist-packages (from torch->islp) (0.7.1)\n",
            "Requirement already satisfied: nvidia-nccl-cu12==2.27.3 in /usr/local/lib/python3.12/dist-packages (from torch->islp) (2.27.3)\n",
            "Requirement already satisfied: nvidia-nvtx-cu12==12.6.77 in /usr/local/lib/python3.12/dist-packages (from torch->islp) (12.6.77)\n",
            "Requirement already satisfied: nvidia-nvjitlink-cu12==12.6.85 in /usr/local/lib/python3.12/dist-packages (from torch->islp) (12.6.85)\n",
            "Requirement already satisfied: nvidia-cufile-cu12==1.11.1.6 in /usr/local/lib/python3.12/dist-packages (from torch->islp) (1.11.1.6)\n",
            "Requirement already satisfied: triton==3.4.0 in /usr/local/lib/python3.12/dist-packages (from torch->islp) (3.4.0)\n",
            "Requirement already satisfied: interface-meta>=1.2.0 in /usr/local/lib/python3.12/dist-packages (from formulaic>=0.2.2->lifelines->islp) (1.3.0)\n",
            "Requirement already satisfied: narwhals>=1.17 in /usr/local/lib/python3.12/dist-packages (from formulaic>=0.2.2->lifelines->islp) (2.2.0)\n",
            "Requirement already satisfied: wrapt>=1.0 in /usr/local/lib/python3.12/dist-packages (from formulaic>=0.2.2->lifelines->islp) (1.17.3)\n",
            "Requirement already satisfied: aiohttp!=4.0.0a0,!=4.0.0a1 in /usr/local/lib/python3.12/dist-packages (from fsspec[http]>=2022.5.0->pytorch-lightning->islp) (3.12.15)\n",
            "Requirement already satisfied: contourpy>=1.0.1 in /usr/local/lib/python3.12/dist-packages (from matplotlib>=3.0->lifelines->islp) (1.3.3)\n",
            "Requirement already satisfied: cycler>=0.10 in /usr/local/lib/python3.12/dist-packages (from matplotlib>=3.0->lifelines->islp) (0.12.1)\n",
            "Requirement already satisfied: fonttools>=4.22.0 in /usr/local/lib/python3.12/dist-packages (from matplotlib>=3.0->lifelines->islp) (4.59.1)\n",
            "Requirement already satisfied: kiwisolver>=1.3.1 in /usr/local/lib/python3.12/dist-packages (from matplotlib>=3.0->lifelines->islp) (1.4.9)\n",
            "Requirement already satisfied: pillow>=8 in /usr/local/lib/python3.12/dist-packages (from matplotlib>=3.0->lifelines->islp) (11.3.0)\n",
            "Requirement already satisfied: pyparsing>=2.3.1 in /usr/local/lib/python3.12/dist-packages (from matplotlib>=3.0->lifelines->islp) (3.2.3)\n",
            "Requirement already satisfied: python-utils>=3.8.1 in /usr/local/lib/python3.12/dist-packages (from progressbar2<5,>=4.2.0->pygam->islp) (3.9.1)\n",
            "Requirement already satisfied: six>=1.5 in /usr/local/lib/python3.12/dist-packages (from python-dateutil>=2.8.2->pandas>=0.20->islp) (1.17.0)\n",
            "Requirement already satisfied: mpmath<1.4,>=1.1.0 in /usr/local/lib/python3.12/dist-packages (from sympy>=1.13.3->torch->islp) (1.3.0)\n",
            "Requirement already satisfied: MarkupSafe>=2.0 in /usr/local/lib/python3.12/dist-packages (from jinja2->torch->islp) (3.0.2)\n",
            "Requirement already satisfied: aiohappyeyeballs>=2.5.0 in /usr/local/lib/python3.12/dist-packages (from aiohttp!=4.0.0a0,!=4.0.0a1->fsspec[http]>=2022.5.0->pytorch-lightning->islp) (2.6.1)\n",
            "Requirement already satisfied: aiosignal>=1.4.0 in /usr/local/lib/python3.12/dist-packages (from aiohttp!=4.0.0a0,!=4.0.0a1->fsspec[http]>=2022.5.0->pytorch-lightning->islp) (1.4.0)\n",
            "Requirement already satisfied: attrs>=17.3.0 in /usr/local/lib/python3.12/dist-packages (from aiohttp!=4.0.0a0,!=4.0.0a1->fsspec[http]>=2022.5.0->pytorch-lightning->islp) (25.3.0)\n",
            "Requirement already satisfied: frozenlist>=1.1.1 in /usr/local/lib/python3.12/dist-packages (from aiohttp!=4.0.0a0,!=4.0.0a1->fsspec[http]>=2022.5.0->pytorch-lightning->islp) (1.7.0)\n",
            "Requirement already satisfied: multidict<7.0,>=4.5 in /usr/local/lib/python3.12/dist-packages (from aiohttp!=4.0.0a0,!=4.0.0a1->fsspec[http]>=2022.5.0->pytorch-lightning->islp) (6.6.4)\n",
            "Requirement already satisfied: propcache>=0.2.0 in /usr/local/lib/python3.12/dist-packages (from aiohttp!=4.0.0a0,!=4.0.0a1->fsspec[http]>=2022.5.0->pytorch-lightning->islp) (0.3.2)\n",
            "Requirement already satisfied: yarl<2.0,>=1.17.0 in /usr/local/lib/python3.12/dist-packages (from aiohttp!=4.0.0a0,!=4.0.0a1->fsspec[http]>=2022.5.0->pytorch-lightning->islp) (1.20.1)\n",
            "Requirement already satisfied: idna>=2.0 in /usr/local/lib/python3.12/dist-packages (from yarl<2.0,>=1.17.0->aiohttp!=4.0.0a0,!=4.0.0a1->fsspec[http]>=2022.5.0->pytorch-lightning->islp) (3.10)\n"
          ]
        }
      ]
    },
    {
      "cell_type": "markdown",
      "id": "dd7ce405",
      "metadata": {
        "id": "dd7ce405"
      },
      "source": [
        " We will provide relevant details about the\n",
        "functions below as they are needed.\n",
        "\n",
        "Besides importing whole modules, it is also possible\n",
        "to import only a few items from a given module. This\n",
        "will help keep the  *namespace* clean.\n",
        "We will use a few specific objects from the `statsmodels` package\n",
        "which we import here."
      ]
    },
    {
      "cell_type": "code",
      "execution_count": 40,
      "id": "b387d3ac",
      "metadata": {
        "execution": {
          "iopub.execute_input": "2024-06-04T23:19:07.849417Z",
          "iopub.status.busy": "2024-06-04T23:19:07.849298Z",
          "iopub.status.idle": "2024-06-04T23:19:07.851636Z",
          "shell.execute_reply": "2024-06-04T23:19:07.851436Z"
        },
        "id": "b387d3ac"
      },
      "outputs": [],
      "source": [
        "from statsmodels.stats.outliers_influence \\\n",
        "     import variance_inflation_factor as VIF\n",
        "from statsmodels.stats.anova import anova_lm\n"
      ]
    },
    {
      "cell_type": "markdown",
      "id": "b4713b12",
      "metadata": {
        "id": "b4713b12"
      },
      "source": [
        "As one of the import statements above is quite a long line, we inserted a line break `\\` to\n",
        "ease readability.\n",
        "\n",
        "We will also use some functions written for the labs in this book in the `ISLP`\n",
        "package."
      ]
    },
    {
      "cell_type": "code",
      "execution_count": 41,
      "id": "307b7e22",
      "metadata": {
        "execution": {
          "iopub.execute_input": "2024-06-04T23:19:07.852868Z",
          "iopub.status.busy": "2024-06-04T23:19:07.852785Z",
          "iopub.status.idle": "2024-06-04T23:19:07.979269Z",
          "shell.execute_reply": "2024-06-04T23:19:07.978990Z"
        },
        "id": "307b7e22"
      },
      "outputs": [],
      "source": [
        "from ISLP import load_data\n",
        "from ISLP.models import (ModelSpec as MS,\n",
        "                         summarize,\n",
        "                         poly)\n"
      ]
    },
    {
      "cell_type": "markdown",
      "id": "81d778fb",
      "metadata": {
        "id": "81d778fb"
      },
      "source": [
        "### Inspecting Objects and Namespaces\n",
        "The\n",
        "function  `dir()`\n",
        "provides a list of\n",
        "objects in a namespace."
      ]
    },
    {
      "cell_type": "code",
      "execution_count": 42,
      "id": "79099069",
      "metadata": {
        "execution": {
          "iopub.execute_input": "2024-06-04T23:19:07.981106Z",
          "iopub.status.busy": "2024-06-04T23:19:07.980941Z",
          "iopub.status.idle": "2024-06-04T23:19:07.983820Z",
          "shell.execute_reply": "2024-06-04T23:19:07.983580Z"
        },
        "lines_to_next_cell": 0,
        "colab": {
          "base_uri": "https://localhost:8080/"
        },
        "id": "79099069",
        "outputId": "49b40318-ae5f-4b5d-dad7-66b46360e0c8"
      },
      "outputs": [
        {
          "output_type": "execute_result",
          "data": {
            "text/plain": [
              "['A',\n",
              " 'Boston',\n",
              " 'In',\n",
              " 'MS',\n",
              " 'Out',\n",
              " 'VIF',\n",
              " 'X',\n",
              " 'Y',\n",
              " 'Z',\n",
              " '_',\n",
              " '_10',\n",
              " '_11',\n",
              " '_12',\n",
              " '_14',\n",
              " '_16',\n",
              " '_25',\n",
              " '_26',\n",
              " '_28',\n",
              " '_30',\n",
              " '_31',\n",
              " '_32',\n",
              " '_33',\n",
              " '_34',\n",
              " '_35',\n",
              " '__',\n",
              " '___',\n",
              " '__builtin__',\n",
              " '__builtins__',\n",
              " '__doc__',\n",
              " '__loader__',\n",
              " '__name__',\n",
              " '__package__',\n",
              " '__spec__',\n",
              " '_dh',\n",
              " '_exit_code',\n",
              " '_i',\n",
              " '_i1',\n",
              " '_i10',\n",
              " '_i11',\n",
              " '_i12',\n",
              " '_i13',\n",
              " '_i14',\n",
              " '_i15',\n",
              " '_i16',\n",
              " '_i17',\n",
              " '_i18',\n",
              " '_i19',\n",
              " '_i2',\n",
              " '_i20',\n",
              " '_i21',\n",
              " '_i22',\n",
              " '_i23',\n",
              " '_i24',\n",
              " '_i25',\n",
              " '_i26',\n",
              " '_i27',\n",
              " '_i28',\n",
              " '_i29',\n",
              " '_i3',\n",
              " '_i30',\n",
              " '_i31',\n",
              " '_i32',\n",
              " '_i33',\n",
              " '_i34',\n",
              " '_i35',\n",
              " '_i36',\n",
              " '_i37',\n",
              " '_i38',\n",
              " '_i39',\n",
              " '_i4',\n",
              " '_i40',\n",
              " '_i41',\n",
              " '_i42',\n",
              " '_i5',\n",
              " '_i6',\n",
              " '_i7',\n",
              " '_i8',\n",
              " '_i9',\n",
              " '_ih',\n",
              " '_ii',\n",
              " '_iii',\n",
              " '_oh',\n",
              " 'anova_lm',\n",
              " 'design',\n",
              " 'exit',\n",
              " 'get_ipython',\n",
              " 'load_data',\n",
              " 'model',\n",
              " 'newX',\n",
              " 'new_df',\n",
              " 'np',\n",
              " 'pd',\n",
              " 'plt',\n",
              " 'poly',\n",
              " 'quit',\n",
              " 'results',\n",
              " 'sm',\n",
              " 'subplots',\n",
              " 'summarize',\n",
              " 'y']"
            ]
          },
          "metadata": {},
          "execution_count": 42
        }
      ],
      "source": [
        "dir()\n"
      ]
    },
    {
      "cell_type": "markdown",
      "id": "237f9711",
      "metadata": {
        "id": "237f9711"
      },
      "source": [
        " This shows you everything that `Python` can find at the top level.\n",
        "There are certain objects like `__builtins__` that contain references to built-in\n",
        "functions like `print()`.\n",
        "\n",
        "Every python object has its own notion of\n",
        "namespace, also accessible with `dir()`. This will include\n",
        "both the attributes of the object\n",
        "as well as any methods associated with it. For instance, we see `'sum'` in the listing for an\n",
        "array."
      ]
    },
    {
      "cell_type": "code",
      "execution_count": 43,
      "id": "3f99195f",
      "metadata": {
        "execution": {
          "iopub.execute_input": "2024-06-04T23:19:07.985095Z",
          "iopub.status.busy": "2024-06-04T23:19:07.985002Z",
          "iopub.status.idle": "2024-06-04T23:19:07.987401Z",
          "shell.execute_reply": "2024-06-04T23:19:07.987190Z"
        },
        "lines_to_next_cell": 0,
        "colab": {
          "base_uri": "https://localhost:8080/"
        },
        "id": "3f99195f",
        "outputId": "2c59e4b3-b99c-42c4-d027-8ea26a4c5886"
      },
      "outputs": [
        {
          "output_type": "execute_result",
          "data": {
            "text/plain": [
              "['T',\n",
              " '__abs__',\n",
              " '__add__',\n",
              " '__and__',\n",
              " '__array__',\n",
              " '__array_finalize__',\n",
              " '__array_function__',\n",
              " '__array_interface__',\n",
              " '__array_namespace__',\n",
              " '__array_priority__',\n",
              " '__array_struct__',\n",
              " '__array_ufunc__',\n",
              " '__array_wrap__',\n",
              " '__bool__',\n",
              " '__buffer__',\n",
              " '__class__',\n",
              " '__class_getitem__',\n",
              " '__complex__',\n",
              " '__contains__',\n",
              " '__copy__',\n",
              " '__deepcopy__',\n",
              " '__delattr__',\n",
              " '__delitem__',\n",
              " '__dir__',\n",
              " '__divmod__',\n",
              " '__dlpack__',\n",
              " '__dlpack_device__',\n",
              " '__doc__',\n",
              " '__eq__',\n",
              " '__float__',\n",
              " '__floordiv__',\n",
              " '__format__',\n",
              " '__ge__',\n",
              " '__getattribute__',\n",
              " '__getitem__',\n",
              " '__getstate__',\n",
              " '__gt__',\n",
              " '__hash__',\n",
              " '__iadd__',\n",
              " '__iand__',\n",
              " '__ifloordiv__',\n",
              " '__ilshift__',\n",
              " '__imatmul__',\n",
              " '__imod__',\n",
              " '__imul__',\n",
              " '__index__',\n",
              " '__init__',\n",
              " '__init_subclass__',\n",
              " '__int__',\n",
              " '__invert__',\n",
              " '__ior__',\n",
              " '__ipow__',\n",
              " '__irshift__',\n",
              " '__isub__',\n",
              " '__iter__',\n",
              " '__itruediv__',\n",
              " '__ixor__',\n",
              " '__le__',\n",
              " '__len__',\n",
              " '__lshift__',\n",
              " '__lt__',\n",
              " '__matmul__',\n",
              " '__mod__',\n",
              " '__mul__',\n",
              " '__ne__',\n",
              " '__neg__',\n",
              " '__new__',\n",
              " '__or__',\n",
              " '__pos__',\n",
              " '__pow__',\n",
              " '__radd__',\n",
              " '__rand__',\n",
              " '__rdivmod__',\n",
              " '__reduce__',\n",
              " '__reduce_ex__',\n",
              " '__repr__',\n",
              " '__rfloordiv__',\n",
              " '__rlshift__',\n",
              " '__rmatmul__',\n",
              " '__rmod__',\n",
              " '__rmul__',\n",
              " '__ror__',\n",
              " '__rpow__',\n",
              " '__rrshift__',\n",
              " '__rshift__',\n",
              " '__rsub__',\n",
              " '__rtruediv__',\n",
              " '__rxor__',\n",
              " '__setattr__',\n",
              " '__setitem__',\n",
              " '__setstate__',\n",
              " '__sizeof__',\n",
              " '__str__',\n",
              " '__sub__',\n",
              " '__subclasshook__',\n",
              " '__truediv__',\n",
              " '__xor__',\n",
              " 'all',\n",
              " 'any',\n",
              " 'argmax',\n",
              " 'argmin',\n",
              " 'argpartition',\n",
              " 'argsort',\n",
              " 'astype',\n",
              " 'base',\n",
              " 'byteswap',\n",
              " 'choose',\n",
              " 'clip',\n",
              " 'compress',\n",
              " 'conj',\n",
              " 'conjugate',\n",
              " 'copy',\n",
              " 'ctypes',\n",
              " 'cumprod',\n",
              " 'cumsum',\n",
              " 'data',\n",
              " 'device',\n",
              " 'diagonal',\n",
              " 'dot',\n",
              " 'dtype',\n",
              " 'dump',\n",
              " 'dumps',\n",
              " 'fill',\n",
              " 'flags',\n",
              " 'flat',\n",
              " 'flatten',\n",
              " 'getfield',\n",
              " 'imag',\n",
              " 'item',\n",
              " 'itemset',\n",
              " 'itemsize',\n",
              " 'mT',\n",
              " 'max',\n",
              " 'mean',\n",
              " 'min',\n",
              " 'nbytes',\n",
              " 'ndim',\n",
              " 'newbyteorder',\n",
              " 'nonzero',\n",
              " 'partition',\n",
              " 'prod',\n",
              " 'ptp',\n",
              " 'put',\n",
              " 'ravel',\n",
              " 'real',\n",
              " 'repeat',\n",
              " 'reshape',\n",
              " 'resize',\n",
              " 'round',\n",
              " 'searchsorted',\n",
              " 'setfield',\n",
              " 'setflags',\n",
              " 'shape',\n",
              " 'size',\n",
              " 'sort',\n",
              " 'squeeze',\n",
              " 'std',\n",
              " 'strides',\n",
              " 'sum',\n",
              " 'swapaxes',\n",
              " 'take',\n",
              " 'to_device',\n",
              " 'tobytes',\n",
              " 'tofile',\n",
              " 'tolist',\n",
              " 'tostring',\n",
              " 'trace',\n",
              " 'transpose',\n",
              " 'var',\n",
              " 'view']"
            ]
          },
          "metadata": {},
          "execution_count": 43
        }
      ],
      "source": [
        "A = np.array([3,5,11])\n",
        "dir(A)\n"
      ]
    },
    {
      "cell_type": "markdown",
      "id": "9d776f61",
      "metadata": {
        "id": "9d776f61"
      },
      "source": [
        " This indicates that the object `A.sum` exists. In this case it is a method\n",
        "that can be used to compute the sum of the array `A` as can be seen by typing `A.sum?`."
      ]
    },
    {
      "cell_type": "code",
      "execution_count": 44,
      "id": "f3f913ca",
      "metadata": {
        "execution": {
          "iopub.execute_input": "2024-06-04T23:19:07.988574Z",
          "iopub.status.busy": "2024-06-04T23:19:07.988481Z",
          "iopub.status.idle": "2024-06-04T23:19:07.990266Z",
          "shell.execute_reply": "2024-06-04T23:19:07.990078Z"
        },
        "lines_to_next_cell": 0,
        "colab": {
          "base_uri": "https://localhost:8080/"
        },
        "id": "f3f913ca",
        "outputId": "0f778302-5fc2-4f1f-e995-e77a2d88a57c"
      },
      "outputs": [
        {
          "output_type": "execute_result",
          "data": {
            "text/plain": [
              "np.int64(19)"
            ]
          },
          "metadata": {},
          "execution_count": 44
        }
      ],
      "source": [
        "A.sum()\n"
      ]
    },
    {
      "cell_type": "markdown",
      "id": "974fad08",
      "metadata": {
        "id": "974fad08"
      },
      "source": [
        "    "
      ]
    },
    {
      "cell_type": "markdown",
      "id": "0b212f1f",
      "metadata": {
        "id": "0b212f1f"
      },
      "source": [
        "## Simple Linear Regression\n",
        "In this section we will  construct model\n",
        "matrices (also called design matrices) using the `ModelSpec()`  transform from `ISLP.models`.\n",
        "\n",
        "We  will use the `Boston` housing data set, which is contained in the `ISLP` package.  The `Boston` dataset records  `medv`  (median house value) for $506$ neighborhoods\n",
        "around Boston.  We will build a regression model to predict  `medv`  using $13$\n",
        "predictors such as  `rmvar`  (average number of rooms per house),\n",
        " `age`  (proportion of owner-occupied units built prior to 1940), and  `lstat`  (percent of\n",
        "households with low socioeconomic status).  We will use `statsmodels` for this\n",
        "task, a `Python` package that implements several commonly used\n",
        "regression methods.\n",
        "\n",
        "We have included a simple loading function `load_data()` in the\n",
        "`ISLP` package:"
      ]
    },
    {
      "cell_type": "code",
      "execution_count": 45,
      "id": "d720e2c5",
      "metadata": {
        "execution": {
          "iopub.execute_input": "2024-06-04T23:19:07.991415Z",
          "iopub.status.busy": "2024-06-04T23:19:07.991335Z",
          "iopub.status.idle": "2024-06-04T23:19:07.995566Z",
          "shell.execute_reply": "2024-06-04T23:19:07.995348Z"
        },
        "colab": {
          "base_uri": "https://localhost:8080/"
        },
        "id": "d720e2c5",
        "outputId": "018ecbca-10ed-4f4e-8eab-be35f4d5294c"
      },
      "outputs": [
        {
          "output_type": "execute_result",
          "data": {
            "text/plain": [
              "Index(['crim', 'zn', 'indus', 'chas', 'nox', 'rm', 'age', 'dis', 'rad', 'tax',\n",
              "       'ptratio', 'lstat', 'medv'],\n",
              "      dtype='object')"
            ]
          },
          "metadata": {},
          "execution_count": 45
        }
      ],
      "source": [
        "Boston = load_data(\"Boston\")\n",
        "Boston.columns\n"
      ]
    },
    {
      "cell_type": "markdown",
      "id": "27b9c8f5",
      "metadata": {
        "id": "27b9c8f5"
      },
      "source": [
        "Type `Boston?` to find out more about these data.\n",
        "\n",
        "We start by using the `sm.OLS()`  function to fit a\n",
        "simple linear regression model.  Our response will be\n",
        " `medv`  and  `lstat`  will be the single predictor.\n",
        "For this model, we can create the model matrix by hand.\n"
      ]
    },
    {
      "cell_type": "code",
      "execution_count": 46,
      "id": "95e541df",
      "metadata": {
        "id": "95e541df"
      },
      "outputs": [],
      "source": [
        "Boston?"
      ]
    },
    {
      "cell_type": "markdown",
      "id": "32cabb75",
      "metadata": {
        "id": "32cabb75"
      },
      "source": [
        "# Go to https://islp.readthedocs.io/en/latest/datasets/Boston.html to look deeper into the dataset"
      ]
    },
    {
      "cell_type": "code",
      "execution_count": 47,
      "id": "40e9b0d5",
      "metadata": {
        "execution": {
          "iopub.execute_input": "2024-06-04T23:19:07.996720Z",
          "iopub.status.busy": "2024-06-04T23:19:07.996648Z",
          "iopub.status.idle": "2024-06-04T23:19:08.000848Z",
          "shell.execute_reply": "2024-06-04T23:19:08.000660Z"
        },
        "colab": {
          "base_uri": "https://localhost:8080/",
          "height": 175
        },
        "id": "40e9b0d5",
        "outputId": "880d392f-d0ac-405c-9e2d-fee4e617b78e"
      },
      "outputs": [
        {
          "output_type": "execute_result",
          "data": {
            "text/plain": [
              "   intercept  lstat\n",
              "0        1.0   4.98\n",
              "1        1.0   9.14\n",
              "2        1.0   4.03\n",
              "3        1.0   2.94"
            ],
            "text/html": [
              "\n",
              "  <div id=\"df-56b47a1e-e055-4ac1-864f-30aae8ba96eb\" class=\"colab-df-container\">\n",
              "    <div>\n",
              "<style scoped>\n",
              "    .dataframe tbody tr th:only-of-type {\n",
              "        vertical-align: middle;\n",
              "    }\n",
              "\n",
              "    .dataframe tbody tr th {\n",
              "        vertical-align: top;\n",
              "    }\n",
              "\n",
              "    .dataframe thead th {\n",
              "        text-align: right;\n",
              "    }\n",
              "</style>\n",
              "<table border=\"1\" class=\"dataframe\">\n",
              "  <thead>\n",
              "    <tr style=\"text-align: right;\">\n",
              "      <th></th>\n",
              "      <th>intercept</th>\n",
              "      <th>lstat</th>\n",
              "    </tr>\n",
              "  </thead>\n",
              "  <tbody>\n",
              "    <tr>\n",
              "      <th>0</th>\n",
              "      <td>1.0</td>\n",
              "      <td>4.98</td>\n",
              "    </tr>\n",
              "    <tr>\n",
              "      <th>1</th>\n",
              "      <td>1.0</td>\n",
              "      <td>9.14</td>\n",
              "    </tr>\n",
              "    <tr>\n",
              "      <th>2</th>\n",
              "      <td>1.0</td>\n",
              "      <td>4.03</td>\n",
              "    </tr>\n",
              "    <tr>\n",
              "      <th>3</th>\n",
              "      <td>1.0</td>\n",
              "      <td>2.94</td>\n",
              "    </tr>\n",
              "  </tbody>\n",
              "</table>\n",
              "</div>\n",
              "    <div class=\"colab-df-buttons\">\n",
              "\n",
              "  <div class=\"colab-df-container\">\n",
              "    <button class=\"colab-df-convert\" onclick=\"convertToInteractive('df-56b47a1e-e055-4ac1-864f-30aae8ba96eb')\"\n",
              "            title=\"Convert this dataframe to an interactive table.\"\n",
              "            style=\"display:none;\">\n",
              "\n",
              "  <svg xmlns=\"http://www.w3.org/2000/svg\" height=\"24px\" viewBox=\"0 -960 960 960\">\n",
              "    <path d=\"M120-120v-720h720v720H120Zm60-500h600v-160H180v160Zm220 220h160v-160H400v160Zm0 220h160v-160H400v160ZM180-400h160v-160H180v160Zm440 0h160v-160H620v160ZM180-180h160v-160H180v160Zm440 0h160v-160H620v160Z\"/>\n",
              "  </svg>\n",
              "    </button>\n",
              "\n",
              "  <style>\n",
              "    .colab-df-container {\n",
              "      display:flex;\n",
              "      gap: 12px;\n",
              "    }\n",
              "\n",
              "    .colab-df-convert {\n",
              "      background-color: #E8F0FE;\n",
              "      border: none;\n",
              "      border-radius: 50%;\n",
              "      cursor: pointer;\n",
              "      display: none;\n",
              "      fill: #1967D2;\n",
              "      height: 32px;\n",
              "      padding: 0 0 0 0;\n",
              "      width: 32px;\n",
              "    }\n",
              "\n",
              "    .colab-df-convert:hover {\n",
              "      background-color: #E2EBFA;\n",
              "      box-shadow: 0px 1px 2px rgba(60, 64, 67, 0.3), 0px 1px 3px 1px rgba(60, 64, 67, 0.15);\n",
              "      fill: #174EA6;\n",
              "    }\n",
              "\n",
              "    .colab-df-buttons div {\n",
              "      margin-bottom: 4px;\n",
              "    }\n",
              "\n",
              "    [theme=dark] .colab-df-convert {\n",
              "      background-color: #3B4455;\n",
              "      fill: #D2E3FC;\n",
              "    }\n",
              "\n",
              "    [theme=dark] .colab-df-convert:hover {\n",
              "      background-color: #434B5C;\n",
              "      box-shadow: 0px 1px 3px 1px rgba(0, 0, 0, 0.15);\n",
              "      filter: drop-shadow(0px 1px 2px rgba(0, 0, 0, 0.3));\n",
              "      fill: #FFFFFF;\n",
              "    }\n",
              "  </style>\n",
              "\n",
              "    <script>\n",
              "      const buttonEl =\n",
              "        document.querySelector('#df-56b47a1e-e055-4ac1-864f-30aae8ba96eb button.colab-df-convert');\n",
              "      buttonEl.style.display =\n",
              "        google.colab.kernel.accessAllowed ? 'block' : 'none';\n",
              "\n",
              "      async function convertToInteractive(key) {\n",
              "        const element = document.querySelector('#df-56b47a1e-e055-4ac1-864f-30aae8ba96eb');\n",
              "        const dataTable =\n",
              "          await google.colab.kernel.invokeFunction('convertToInteractive',\n",
              "                                                    [key], {});\n",
              "        if (!dataTable) return;\n",
              "\n",
              "        const docLinkHtml = 'Like what you see? Visit the ' +\n",
              "          '<a target=\"_blank\" href=https://colab.research.google.com/notebooks/data_table.ipynb>data table notebook</a>'\n",
              "          + ' to learn more about interactive tables.';\n",
              "        element.innerHTML = '';\n",
              "        dataTable['output_type'] = 'display_data';\n",
              "        await google.colab.output.renderOutput(dataTable, element);\n",
              "        const docLink = document.createElement('div');\n",
              "        docLink.innerHTML = docLinkHtml;\n",
              "        element.appendChild(docLink);\n",
              "      }\n",
              "    </script>\n",
              "  </div>\n",
              "\n",
              "\n",
              "    <div id=\"df-6dd6bc5a-c1b0-4d33-acb6-32301a9380f9\">\n",
              "      <button class=\"colab-df-quickchart\" onclick=\"quickchart('df-6dd6bc5a-c1b0-4d33-acb6-32301a9380f9')\"\n",
              "                title=\"Suggest charts\"\n",
              "                style=\"display:none;\">\n",
              "\n",
              "<svg xmlns=\"http://www.w3.org/2000/svg\" height=\"24px\"viewBox=\"0 0 24 24\"\n",
              "     width=\"24px\">\n",
              "    <g>\n",
              "        <path d=\"M19 3H5c-1.1 0-2 .9-2 2v14c0 1.1.9 2 2 2h14c1.1 0 2-.9 2-2V5c0-1.1-.9-2-2-2zM9 17H7v-7h2v7zm4 0h-2V7h2v10zm4 0h-2v-4h2v4z\"/>\n",
              "    </g>\n",
              "</svg>\n",
              "      </button>\n",
              "\n",
              "<style>\n",
              "  .colab-df-quickchart {\n",
              "      --bg-color: #E8F0FE;\n",
              "      --fill-color: #1967D2;\n",
              "      --hover-bg-color: #E2EBFA;\n",
              "      --hover-fill-color: #174EA6;\n",
              "      --disabled-fill-color: #AAA;\n",
              "      --disabled-bg-color: #DDD;\n",
              "  }\n",
              "\n",
              "  [theme=dark] .colab-df-quickchart {\n",
              "      --bg-color: #3B4455;\n",
              "      --fill-color: #D2E3FC;\n",
              "      --hover-bg-color: #434B5C;\n",
              "      --hover-fill-color: #FFFFFF;\n",
              "      --disabled-bg-color: #3B4455;\n",
              "      --disabled-fill-color: #666;\n",
              "  }\n",
              "\n",
              "  .colab-df-quickchart {\n",
              "    background-color: var(--bg-color);\n",
              "    border: none;\n",
              "    border-radius: 50%;\n",
              "    cursor: pointer;\n",
              "    display: none;\n",
              "    fill: var(--fill-color);\n",
              "    height: 32px;\n",
              "    padding: 0;\n",
              "    width: 32px;\n",
              "  }\n",
              "\n",
              "  .colab-df-quickchart:hover {\n",
              "    background-color: var(--hover-bg-color);\n",
              "    box-shadow: 0 1px 2px rgba(60, 64, 67, 0.3), 0 1px 3px 1px rgba(60, 64, 67, 0.15);\n",
              "    fill: var(--button-hover-fill-color);\n",
              "  }\n",
              "\n",
              "  .colab-df-quickchart-complete:disabled,\n",
              "  .colab-df-quickchart-complete:disabled:hover {\n",
              "    background-color: var(--disabled-bg-color);\n",
              "    fill: var(--disabled-fill-color);\n",
              "    box-shadow: none;\n",
              "  }\n",
              "\n",
              "  .colab-df-spinner {\n",
              "    border: 2px solid var(--fill-color);\n",
              "    border-color: transparent;\n",
              "    border-bottom-color: var(--fill-color);\n",
              "    animation:\n",
              "      spin 1s steps(1) infinite;\n",
              "  }\n",
              "\n",
              "  @keyframes spin {\n",
              "    0% {\n",
              "      border-color: transparent;\n",
              "      border-bottom-color: var(--fill-color);\n",
              "      border-left-color: var(--fill-color);\n",
              "    }\n",
              "    20% {\n",
              "      border-color: transparent;\n",
              "      border-left-color: var(--fill-color);\n",
              "      border-top-color: var(--fill-color);\n",
              "    }\n",
              "    30% {\n",
              "      border-color: transparent;\n",
              "      border-left-color: var(--fill-color);\n",
              "      border-top-color: var(--fill-color);\n",
              "      border-right-color: var(--fill-color);\n",
              "    }\n",
              "    40% {\n",
              "      border-color: transparent;\n",
              "      border-right-color: var(--fill-color);\n",
              "      border-top-color: var(--fill-color);\n",
              "    }\n",
              "    60% {\n",
              "      border-color: transparent;\n",
              "      border-right-color: var(--fill-color);\n",
              "    }\n",
              "    80% {\n",
              "      border-color: transparent;\n",
              "      border-right-color: var(--fill-color);\n",
              "      border-bottom-color: var(--fill-color);\n",
              "    }\n",
              "    90% {\n",
              "      border-color: transparent;\n",
              "      border-bottom-color: var(--fill-color);\n",
              "    }\n",
              "  }\n",
              "</style>\n",
              "\n",
              "      <script>\n",
              "        async function quickchart(key) {\n",
              "          const quickchartButtonEl =\n",
              "            document.querySelector('#' + key + ' button');\n",
              "          quickchartButtonEl.disabled = true;  // To prevent multiple clicks.\n",
              "          quickchartButtonEl.classList.add('colab-df-spinner');\n",
              "          try {\n",
              "            const charts = await google.colab.kernel.invokeFunction(\n",
              "                'suggestCharts', [key], {});\n",
              "          } catch (error) {\n",
              "            console.error('Error during call to suggestCharts:', error);\n",
              "          }\n",
              "          quickchartButtonEl.classList.remove('colab-df-spinner');\n",
              "          quickchartButtonEl.classList.add('colab-df-quickchart-complete');\n",
              "        }\n",
              "        (() => {\n",
              "          let quickchartButtonEl =\n",
              "            document.querySelector('#df-6dd6bc5a-c1b0-4d33-acb6-32301a9380f9 button');\n",
              "          quickchartButtonEl.style.display =\n",
              "            google.colab.kernel.accessAllowed ? 'block' : 'none';\n",
              "        })();\n",
              "      </script>\n",
              "    </div>\n",
              "\n",
              "    </div>\n",
              "  </div>\n"
            ],
            "application/vnd.google.colaboratory.intrinsic+json": {
              "type": "dataframe",
              "summary": "{\n  \"name\": \"X[:4]\",\n  \"rows\": 4,\n  \"fields\": [\n    {\n      \"column\": \"intercept\",\n      \"properties\": {\n        \"dtype\": \"number\",\n        \"std\": 0.0,\n        \"min\": 1.0,\n        \"max\": 1.0,\n        \"num_unique_values\": 1,\n        \"samples\": [\n          1.0\n        ],\n        \"semantic_type\": \"\",\n        \"description\": \"\"\n      }\n    },\n    {\n      \"column\": \"lstat\",\n      \"properties\": {\n        \"dtype\": \"number\",\n        \"std\": 2.709703243284524,\n        \"min\": 2.94,\n        \"max\": 9.14,\n        \"num_unique_values\": 4,\n        \"samples\": [\n          9.14\n        ],\n        \"semantic_type\": \"\",\n        \"description\": \"\"\n      }\n    }\n  ]\n}"
            }
          },
          "metadata": {},
          "execution_count": 47
        }
      ],
      "source": [
        "X = pd.DataFrame({'intercept': np.ones(Boston.shape[0]),\n",
        "                  'lstat': Boston['lstat']})\n",
        "X[:4]\n"
      ]
    },
    {
      "cell_type": "markdown",
      "id": "3de7037d",
      "metadata": {
        "id": "3de7037d"
      },
      "source": [
        "# *EXERCISE: Create and display a scatter plot depicting the relation betweeen 'medv' and 'lstat' in the Boston dataset*"
      ]
    },
    {
      "cell_type": "code",
      "execution_count": 48,
      "id": "38fcc52c",
      "metadata": {
        "colab": {
          "base_uri": "https://localhost:8080/",
          "height": 600
        },
        "id": "38fcc52c",
        "outputId": "12241458-61c2-4aef-ad10-074545182120"
      },
      "outputs": [
        {
          "output_type": "execute_result",
          "data": {
            "text/plain": [
              "<function matplotlib.pyplot.show(close=None, block=None)>"
            ],
            "text/html": [
              "<div style=\"max-width:800px; border: 1px solid var(--colab-border-color);\"><style>\n",
              "      pre.function-repr-contents {\n",
              "        overflow-x: auto;\n",
              "        padding: 8px 12px;\n",
              "        max-height: 500px;\n",
              "      }\n",
              "\n",
              "      pre.function-repr-contents.function-repr-contents-collapsed {\n",
              "        cursor: pointer;\n",
              "        max-height: 100px;\n",
              "      }\n",
              "    </style>\n",
              "    <pre style=\"white-space: initial; background:\n",
              "         var(--colab-secondary-surface-color); padding: 8px 12px;\n",
              "         border-bottom: 1px solid var(--colab-border-color);\"><b>matplotlib.pyplot.show</b><br/>def show(*args, **kwargs) -&gt; None</pre><pre class=\"function-repr-contents function-repr-contents-collapsed\" style=\"\"><a class=\"filepath\" style=\"display:none\" href=\"#\">/usr/local/lib/python3.12/dist-packages/matplotlib/pyplot.py</a>Display all open figures.\n",
              "\n",
              "Parameters\n",
              "----------\n",
              "block : bool, optional\n",
              "    Whether to wait for all figures to be closed before returning.\n",
              "\n",
              "    If `True` block and run the GUI main loop until all figure windows\n",
              "    are closed.\n",
              "\n",
              "    If `False` ensure that all figure windows are displayed and return\n",
              "    immediately.  In this case, you are responsible for ensuring\n",
              "    that the event loop is running to have responsive figures.\n",
              "\n",
              "    Defaults to True in non-interactive mode and to False in interactive\n",
              "    mode (see `.pyplot.isinteractive`).\n",
              "\n",
              "See Also\n",
              "--------\n",
              "ion : Enable interactive mode, which shows / updates the figure after\n",
              "      every plotting command, so that calling ``show()`` is not necessary.\n",
              "ioff : Disable interactive mode.\n",
              "savefig : Save the figure to an image file instead of showing it on screen.\n",
              "\n",
              "Notes\n",
              "-----\n",
              "**Saving figures to file and showing a window at the same time**\n",
              "\n",
              "If you want an image file as well as a user interface window, use\n",
              "`.pyplot.savefig` before `.pyplot.show`. At the end of (a blocking)\n",
              "``show()`` the figure is closed and thus unregistered from pyplot. Calling\n",
              "`.pyplot.savefig` afterwards would save a new and thus empty figure. This\n",
              "limitation of command order does not apply if the show is non-blocking or\n",
              "if you keep a reference to the figure and use `.Figure.savefig`.\n",
              "\n",
              "**Auto-show in jupyter notebooks**\n",
              "\n",
              "The jupyter backends (activated via ``%matplotlib inline``,\n",
              "``%matplotlib notebook``, or ``%matplotlib widget``), call ``show()`` at\n",
              "the end of every cell by default. Thus, you usually don&#x27;t have to call it\n",
              "explicitly there.</pre>\n",
              "      <script>\n",
              "      if (google.colab.kernel.accessAllowed && google.colab.files && google.colab.files.view) {\n",
              "        for (const element of document.querySelectorAll('.filepath')) {\n",
              "          element.style.display = 'block'\n",
              "          element.onclick = (event) => {\n",
              "            event.preventDefault();\n",
              "            event.stopPropagation();\n",
              "            google.colab.files.view(element.textContent, 569);\n",
              "          };\n",
              "        }\n",
              "      }\n",
              "      for (const element of document.querySelectorAll('.function-repr-contents')) {\n",
              "        element.onclick = (event) => {\n",
              "          event.preventDefault();\n",
              "          event.stopPropagation();\n",
              "          element.classList.toggle('function-repr-contents-collapsed');\n",
              "        };\n",
              "      }\n",
              "      </script>\n",
              "      </div>"
            ]
          },
          "metadata": {},
          "execution_count": 48
        },
        {
          "output_type": "display_data",
          "data": {
            "text/plain": [
              "<Figure size 640x480 with 1 Axes>"
            ],
            "image/png": "[encoded data removed]"
          },
          "metadata": {}
        }
      ],
      "source": [
        "#Insert exercise solution here\n",
        "\n",
        "X = Boston['lstat']\n",
        "Y = Boston['medv']\n",
        "plt.scatter(X, Y)\n",
        "plt.show"
      ]
    },
    {
      "cell_type": "markdown",
      "id": "77ed4d6c",
      "metadata": {
        "id": "77ed4d6c"
      },
      "source": [
        "# *EXERCISE: Create and display a scatter plot depicting the relation betweeen 'medv' and one other feature in the Boston dataset*"
      ]
    },
    {
      "cell_type": "code",
      "execution_count": 50,
      "id": "142d94df",
      "metadata": {
        "colab": {
          "base_uri": "https://localhost:8080/",
          "height": 600
        },
        "id": "142d94df",
        "outputId": "47f985bc-d343-45aa-eca7-6cbc70ff40fc"
      },
      "outputs": [
        {
          "output_type": "execute_result",
          "data": {
            "text/plain": [
              "<function matplotlib.pyplot.show(close=None, block=None)>"
            ],
            "text/html": [
              "<div style=\"max-width:800px; border: 1px solid var(--colab-border-color);\"><style>\n",
              "      pre.function-repr-contents {\n",
              "        overflow-x: auto;\n",
              "        padding: 8px 12px;\n",
              "        max-height: 500px;\n",
              "      }\n",
              "\n",
              "      pre.function-repr-contents.function-repr-contents-collapsed {\n",
              "        cursor: pointer;\n",
              "        max-height: 100px;\n",
              "      }\n",
              "    </style>\n",
              "    <pre style=\"white-space: initial; background:\n",
              "         var(--colab-secondary-surface-color); padding: 8px 12px;\n",
              "         border-bottom: 1px solid var(--colab-border-color);\"><b>matplotlib.pyplot.show</b><br/>def show(*args, **kwargs) -&gt; None</pre><pre class=\"function-repr-contents function-repr-contents-collapsed\" style=\"\"><a class=\"filepath\" style=\"display:none\" href=\"#\">/usr/local/lib/python3.12/dist-packages/matplotlib/pyplot.py</a>Display all open figures.\n",
              "\n",
              "Parameters\n",
              "----------\n",
              "block : bool, optional\n",
              "    Whether to wait for all figures to be closed before returning.\n",
              "\n",
              "    If `True` block and run the GUI main loop until all figure windows\n",
              "    are closed.\n",
              "\n",
              "    If `False` ensure that all figure windows are displayed and return\n",
              "    immediately.  In this case, you are responsible for ensuring\n",
              "    that the event loop is running to have responsive figures.\n",
              "\n",
              "    Defaults to True in non-interactive mode and to False in interactive\n",
              "    mode (see `.pyplot.isinteractive`).\n",
              "\n",
              "See Also\n",
              "--------\n",
              "ion : Enable interactive mode, which shows / updates the figure after\n",
              "      every plotting command, so that calling ``show()`` is not necessary.\n",
              "ioff : Disable interactive mode.\n",
              "savefig : Save the figure to an image file instead of showing it on screen.\n",
              "\n",
              "Notes\n",
              "-----\n",
              "**Saving figures to file and showing a window at the same time**\n",
              "\n",
              "If you want an image file as well as a user interface window, use\n",
              "`.pyplot.savefig` before `.pyplot.show`. At the end of (a blocking)\n",
              "``show()`` the figure is closed and thus unregistered from pyplot. Calling\n",
              "`.pyplot.savefig` afterwards would save a new and thus empty figure. This\n",
              "limitation of command order does not apply if the show is non-blocking or\n",
              "if you keep a reference to the figure and use `.Figure.savefig`.\n",
              "\n",
              "**Auto-show in jupyter notebooks**\n",
              "\n",
              "The jupyter backends (activated via ``%matplotlib inline``,\n",
              "``%matplotlib notebook``, or ``%matplotlib widget``), call ``show()`` at\n",
              "the end of every cell by default. Thus, you usually don&#x27;t have to call it\n",
              "explicitly there.</pre>\n",
              "      <script>\n",
              "      if (google.colab.kernel.accessAllowed && google.colab.files && google.colab.files.view) {\n",
              "        for (const element of document.querySelectorAll('.filepath')) {\n",
              "          element.style.display = 'block'\n",
              "          element.onclick = (event) => {\n",
              "            event.preventDefault();\n",
              "            event.stopPropagation();\n",
              "            google.colab.files.view(element.textContent, 569);\n",
              "          };\n",
              "        }\n",
              "      }\n",
              "      for (const element of document.querySelectorAll('.function-repr-contents')) {\n",
              "        element.onclick = (event) => {\n",
              "          event.preventDefault();\n",
              "          event.stopPropagation();\n",
              "          element.classList.toggle('function-repr-contents-collapsed');\n",
              "        };\n",
              "      }\n",
              "      </script>\n",
              "      </div>"
            ]
          },
          "metadata": {},
          "execution_count": 50
        },
        {
          "output_type": "display_data",
          "data": {
            "text/plain": [
              "<Figure size 640x480 with 1 Axes>"
            ],
            "image/png": "[encoded data removed]"
          },
          "metadata": {}
        }
      ],
      "source": [
        "#Insert exercise solution here\n",
        "#X = Boston['lstat']\n",
        "Z = Boston['crim']\n",
        "plt.scatter(X, Z)\n",
        "plt.show\n"
      ]
    },
    {
      "cell_type": "markdown",
      "id": "162d93ef",
      "metadata": {
        "id": "162d93ef"
      },
      "source": [
        "We extract the response, and fit the model."
      ]
    },
    {
      "cell_type": "code",
      "execution_count": 51,
      "id": "c1d544d6",
      "metadata": {
        "execution": {
          "iopub.execute_input": "2024-06-04T23:19:08.002003Z",
          "iopub.status.busy": "2024-06-04T23:19:08.001934Z",
          "iopub.status.idle": "2024-06-04T23:19:08.003890Z",
          "shell.execute_reply": "2024-06-04T23:19:08.003673Z"
        },
        "lines_to_next_cell": 0,
        "id": "c1d544d6"
      },
      "outputs": [],
      "source": [
        "y = Boston['medv']\n",
        "model = sm.OLS(y, X)\n",
        "results = model.fit()\n"
      ]
    },
    {
      "cell_type": "markdown",
      "id": "2a1d62f2",
      "metadata": {
        "id": "2a1d62f2"
      },
      "source": [
        "Note that `sm.OLS()` does\n",
        "not fit the model; it specifies the model, and then `model.fit()` does the actual fitting.  \n",
        "\n",
        "Our `ISLP` function `summarize()` produces a simple table of the parameter estimates,\n",
        "their standard errors, t-statistics and p-values.\n",
        "The function takes a single argument, such as the object `results`\n",
        "returned here by the `fit`\n",
        "method, and returns such a summary."
      ]
    },
    {
      "cell_type": "code",
      "execution_count": 52,
      "id": "3d340a07",
      "metadata": {
        "execution": {
          "iopub.execute_input": "2024-06-04T23:19:08.004988Z",
          "iopub.status.busy": "2024-06-04T23:19:08.004916Z",
          "iopub.status.idle": "2024-06-04T23:19:08.018774Z",
          "shell.execute_reply": "2024-06-04T23:19:08.018578Z"
        },
        "lines_to_next_cell": 2,
        "colab": {
          "base_uri": "https://localhost:8080/",
          "height": 81
        },
        "id": "3d340a07",
        "outputId": "bb5b546f-8320-4402-8fed-0240c16c06ee"
      },
      "outputs": [
        {
          "output_type": "execute_result",
          "data": {
            "text/plain": [
              "         coef  std err       t  P>|t|\n",
              "lstat  1.1221    0.055  20.271    0.0"
            ],
            "text/html": [
              "\n",
              "  <div id=\"df-0f61caad-e667-4e02-8054-79eb63c9d7fe\" class=\"colab-df-container\">\n",
              "    <div>\n",
              "<style scoped>\n",
              "    .dataframe tbody tr th:only-of-type {\n",
              "        vertical-align: middle;\n",
              "    }\n",
              "\n",
              "    .dataframe tbody tr th {\n",
              "        vertical-align: top;\n",
              "    }\n",
              "\n",
              "    .dataframe thead th {\n",
              "        text-align: right;\n",
              "    }\n",
              "</style>\n",
              "<table border=\"1\" class=\"dataframe\">\n",
              "  <thead>\n",
              "    <tr style=\"text-align: right;\">\n",
              "      <th></th>\n",
              "      <th>coef</th>\n",
              "      <th>std err</th>\n",
              "      <th>t</th>\n",
              "      <th>P&gt;|t|</th>\n",
              "    </tr>\n",
              "  </thead>\n",
              "  <tbody>\n",
              "    <tr>\n",
              "      <th>lstat</th>\n",
              "      <td>1.1221</td>\n",
              "      <td>0.055</td>\n",
              "      <td>20.271</td>\n",
              "      <td>0.0</td>\n",
              "    </tr>\n",
              "  </tbody>\n",
              "</table>\n",
              "</div>\n",
              "    <div class=\"colab-df-buttons\">\n",
              "\n",
              "  <div class=\"colab-df-container\">\n",
              "    <button class=\"colab-df-convert\" onclick=\"convertToInteractive('df-0f61caad-e667-4e02-8054-79eb63c9d7fe')\"\n",
              "            title=\"Convert this dataframe to an interactive table.\"\n",
              "            style=\"display:none;\">\n",
              "\n",
              "  <svg xmlns=\"http://www.w3.org/2000/svg\" height=\"24px\" viewBox=\"0 -960 960 960\">\n",
              "    <path d=\"M120-120v-720h720v720H120Zm60-500h600v-160H180v160Zm220 220h160v-160H400v160Zm0 220h160v-160H400v160ZM180-400h160v-160H180v160Zm440 0h160v-160H620v160ZM180-180h160v-160H180v160Zm440 0h160v-160H620v160Z\"/>\n",
              "  </svg>\n",
              "    </button>\n",
              "\n",
              "  <style>\n",
              "    .colab-df-container {\n",
              "      display:flex;\n",
              "      gap: 12px;\n",
              "    }\n",
              "\n",
              "    .colab-df-convert {\n",
              "      background-color: #E8F0FE;\n",
              "      border: none;\n",
              "      border-radius: 50%;\n",
              "      cursor: pointer;\n",
              "      display: none;\n",
              "      fill: #1967D2;\n",
              "      height: 32px;\n",
              "      padding: 0 0 0 0;\n",
              "      width: 32px;\n",
              "    }\n",
              "\n",
              "    .colab-df-convert:hover {\n",
              "      background-color: #E2EBFA;\n",
              "      box-shadow: 0px 1px 2px rgba(60, 64, 67, 0.3), 0px 1px 3px 1px rgba(60, 64, 67, 0.15);\n",
              "      fill: #174EA6;\n",
              "    }\n",
              "\n",
              "    .colab-df-buttons div {\n",
              "      margin-bottom: 4px;\n",
              "    }\n",
              "\n",
              "    [theme=dark] .colab-df-convert {\n",
              "      background-color: #3B4455;\n",
              "      fill: #D2E3FC;\n",
              "    }\n",
              "\n",
              "    [theme=dark] .colab-df-convert:hover {\n",
              "      background-color: #434B5C;\n",
              "      box-shadow: 0px 1px 3px 1px rgba(0, 0, 0, 0.15);\n",
              "      filter: drop-shadow(0px 1px 2px rgba(0, 0, 0, 0.3));\n",
              "      fill: #FFFFFF;\n",
              "    }\n",
              "  </style>\n",
              "\n",
              "    <script>\n",
              "      const buttonEl =\n",
              "        document.querySelector('#df-0f61caad-e667-4e02-8054-79eb63c9d7fe button.colab-df-convert');\n",
              "      buttonEl.style.display =\n",
              "        google.colab.kernel.accessAllowed ? 'block' : 'none';\n",
              "\n",
              "      async function convertToInteractive(key) {\n",
              "        const element = document.querySelector('#df-0f61caad-e667-4e02-8054-79eb63c9d7fe');\n",
              "        const dataTable =\n",
              "          await google.colab.kernel.invokeFunction('convertToInteractive',\n",
              "                                                    [key], {});\n",
              "        if (!dataTable) return;\n",
              "\n",
              "        const docLinkHtml = 'Like what you see? Visit the ' +\n",
              "          '<a target=\"_blank\" href=https://colab.research.google.com/notebooks/data_table.ipynb>data table notebook</a>'\n",
              "          + ' to learn more about interactive tables.';\n",
              "        element.innerHTML = '';\n",
              "        dataTable['output_type'] = 'display_data';\n",
              "        await google.colab.output.renderOutput(dataTable, element);\n",
              "        const docLink = document.createElement('div');\n",
              "        docLink.innerHTML = docLinkHtml;\n",
              "        element.appendChild(docLink);\n",
              "      }\n",
              "    </script>\n",
              "  </div>\n",
              "\n",
              "\n",
              "    </div>\n",
              "  </div>\n"
            ],
            "application/vnd.google.colaboratory.intrinsic+json": {
              "type": "dataframe",
              "summary": "{\n  \"name\": \"summarize(results)\",\n  \"rows\": 1,\n  \"fields\": [\n    {\n      \"column\": \"coef\",\n      \"properties\": {\n        \"dtype\": \"number\",\n        \"std\": null,\n        \"min\": 1.1221,\n        \"max\": 1.1221,\n        \"num_unique_values\": 1,\n        \"samples\": [\n          1.1221\n        ],\n        \"semantic_type\": \"\",\n        \"description\": \"\"\n      }\n    },\n    {\n      \"column\": \"std err\",\n      \"properties\": {\n        \"dtype\": \"number\",\n        \"std\": null,\n        \"min\": 0.055,\n        \"max\": 0.055,\n        \"num_unique_values\": 1,\n        \"samples\": [\n          0.055\n        ],\n        \"semantic_type\": \"\",\n        \"description\": \"\"\n      }\n    },\n    {\n      \"column\": \"t\",\n      \"properties\": {\n        \"dtype\": \"number\",\n        \"std\": null,\n        \"min\": 20.271,\n        \"max\": 20.271,\n        \"num_unique_values\": 1,\n        \"samples\": [\n          20.271\n        ],\n        \"semantic_type\": \"\",\n        \"description\": \"\"\n      }\n    },\n    {\n      \"column\": \"P>|t|\",\n      \"properties\": {\n        \"dtype\": \"number\",\n        \"std\": null,\n        \"min\": 0.0,\n        \"max\": 0.0,\n        \"num_unique_values\": 1,\n        \"samples\": [\n          0.0\n        ],\n        \"semantic_type\": \"\",\n        \"description\": \"\"\n      }\n    }\n  ]\n}"
            }
          },
          "metadata": {},
          "execution_count": 52
        }
      ],
      "source": [
        "summarize(results)\n"
      ]
    },
    {
      "cell_type": "markdown",
      "id": "31d6b202",
      "metadata": {
        "id": "31d6b202"
      },
      "source": [
        "Before we describe other methods for working with fitted models, we outline a more useful and general framework for constructing a model matrix~`X`.\n",
        "### Using Transformations: Fit and Transform\n",
        "Our model above has a single predictor, and constructing `X` was straightforward.\n",
        "In practice  we often fit models with more than one predictor, typically selected from an array or data frame.\n",
        "We may wish to introduce transformations to the variables before fitting the model, specify interactions between variables, and expand some particular variables into sets of variables (e.g. polynomials).\n",
        "The `sklearn`  package has a particular notion\n",
        "for this type of task: a *transform*. A transform is an object\n",
        "that is created with some parameters as arguments. The\n",
        "object has two main methods: `fit()` and `transform()`.\n",
        "\n",
        "We provide a general approach for specifying models and constructing\n",
        "the model matrix through the transform `ModelSpec()` in the `ISLP` library.\n",
        "`ModelSpec()`\n",
        "(renamed `MS()` in the preamble) creates a\n",
        "transform object, and then a pair of methods\n",
        "`transform()` and `fit()` are used to construct a\n",
        "corresponding model matrix.\n",
        "\n",
        "We first describe this process for our simple regression model  using a single predictor `lstat` in\n",
        "the `Boston` data frame, but will use it repeatedly in more\n",
        "complex tasks in this and other labs in this book.\n",
        "In our case the transform is created by the expression\n",
        "`design = MS(['lstat'])`.\n",
        "\n",
        "The `fit()`  method takes the original array and may do some\n",
        "initial computations on it, as specified in the transform object.\n",
        "For example, it may compute means and standard deviations for centering and scaling.\n",
        "The `transform()`\n",
        "method applies the fitted transformation to the array of data, and produces the model matrix.\n"
      ]
    },
    {
      "cell_type": "code",
      "execution_count": 53,
      "id": "11b07af0",
      "metadata": {
        "execution": {
          "iopub.execute_input": "2024-06-04T23:19:08.019954Z",
          "iopub.status.busy": "2024-06-04T23:19:08.019865Z",
          "iopub.status.idle": "2024-06-04T23:19:08.024711Z",
          "shell.execute_reply": "2024-06-04T23:19:08.024511Z"
        },
        "lines_to_next_cell": 0,
        "colab": {
          "base_uri": "https://localhost:8080/",
          "height": 175
        },
        "id": "11b07af0",
        "outputId": "519dd9dd-9bc0-49fe-935d-95786cb3c53f"
      },
      "outputs": [
        {
          "output_type": "execute_result",
          "data": {
            "text/plain": [
              "   intercept  lstat\n",
              "0        1.0   4.98\n",
              "1        1.0   9.14\n",
              "2        1.0   4.03\n",
              "3        1.0   2.94"
            ],
            "text/html": [
              "\n",
              "  <div id=\"df-24478859-d630-48fd-950d-92c5d0897ef4\" class=\"colab-df-container\">\n",
              "    <div>\n",
              "<style scoped>\n",
              "    .dataframe tbody tr th:only-of-type {\n",
              "        vertical-align: middle;\n",
              "    }\n",
              "\n",
              "    .dataframe tbody tr th {\n",
              "        vertical-align: top;\n",
              "    }\n",
              "\n",
              "    .dataframe thead th {\n",
              "        text-align: right;\n",
              "    }\n",
              "</style>\n",
              "<table border=\"1\" class=\"dataframe\">\n",
              "  <thead>\n",
              "    <tr style=\"text-align: right;\">\n",
              "      <th></th>\n",
              "      <th>intercept</th>\n",
              "      <th>lstat</th>\n",
              "    </tr>\n",
              "  </thead>\n",
              "  <tbody>\n",
              "    <tr>\n",
              "      <th>0</th>\n",
              "      <td>1.0</td>\n",
              "      <td>4.98</td>\n",
              "    </tr>\n",
              "    <tr>\n",
              "      <th>1</th>\n",
              "      <td>1.0</td>\n",
              "      <td>9.14</td>\n",
              "    </tr>\n",
              "    <tr>\n",
              "      <th>2</th>\n",
              "      <td>1.0</td>\n",
              "      <td>4.03</td>\n",
              "    </tr>\n",
              "    <tr>\n",
              "      <th>3</th>\n",
              "      <td>1.0</td>\n",
              "      <td>2.94</td>\n",
              "    </tr>\n",
              "  </tbody>\n",
              "</table>\n",
              "</div>\n",
              "    <div class=\"colab-df-buttons\">\n",
              "\n",
              "  <div class=\"colab-df-container\">\n",
              "    <button class=\"colab-df-convert\" onclick=\"convertToInteractive('df-24478859-d630-48fd-950d-92c5d0897ef4')\"\n",
              "            title=\"Convert this dataframe to an interactive table.\"\n",
              "            style=\"display:none;\">\n",
              "\n",
              "  <svg xmlns=\"http://www.w3.org/2000/svg\" height=\"24px\" viewBox=\"0 -960 960 960\">\n",
              "    <path d=\"M120-120v-720h720v720H120Zm60-500h600v-160H180v160Zm220 220h160v-160H400v160Zm0 220h160v-160H400v160ZM180-400h160v-160H180v160Zm440 0h160v-160H620v160ZM180-180h160v-160H180v160Zm440 0h160v-160H620v160Z\"/>\n",
              "  </svg>\n",
              "    </button>\n",
              "\n",
              "  <style>\n",
              "    .colab-df-container {\n",
              "      display:flex;\n",
              "      gap: 12px;\n",
              "    }\n",
              "\n",
              "    .colab-df-convert {\n",
              "      background-color: #E8F0FE;\n",
              "      border: none;\n",
              "      border-radius: 50%;\n",
              "      cursor: pointer;\n",
              "      display: none;\n",
              "      fill: #1967D2;\n",
              "      height: 32px;\n",
              "      padding: 0 0 0 0;\n",
              "      width: 32px;\n",
              "    }\n",
              "\n",
              "    .colab-df-convert:hover {\n",
              "      background-color: #E2EBFA;\n",
              "      box-shadow: 0px 1px 2px rgba(60, 64, 67, 0.3), 0px 1px 3px 1px rgba(60, 64, 67, 0.15);\n",
              "      fill: #174EA6;\n",
              "    }\n",
              "\n",
              "    .colab-df-buttons div {\n",
              "      margin-bottom: 4px;\n",
              "    }\n",
              "\n",
              "    [theme=dark] .colab-df-convert {\n",
              "      background-color: #3B4455;\n",
              "      fill: #D2E3FC;\n",
              "    }\n",
              "\n",
              "    [theme=dark] .colab-df-convert:hover {\n",
              "      background-color: #434B5C;\n",
              "      box-shadow: 0px 1px 3px 1px rgba(0, 0, 0, 0.15);\n",
              "      filter: drop-shadow(0px 1px 2px rgba(0, 0, 0, 0.3));\n",
              "      fill: #FFFFFF;\n",
              "    }\n",
              "  </style>\n",
              "\n",
              "    <script>\n",
              "      const buttonEl =\n",
              "        document.querySelector('#df-24478859-d630-48fd-950d-92c5d0897ef4 button.colab-df-convert');\n",
              "      buttonEl.style.display =\n",
              "        google.colab.kernel.accessAllowed ? 'block' : 'none';\n",
              "\n",
              "      async function convertToInteractive(key) {\n",
              "        const element = document.querySelector('#df-24478859-d630-48fd-950d-92c5d0897ef4');\n",
              "        const dataTable =\n",
              "          await google.colab.kernel.invokeFunction('convertToInteractive',\n",
              "                                                    [key], {});\n",
              "        if (!dataTable) return;\n",
              "\n",
              "        const docLinkHtml = 'Like what you see? Visit the ' +\n",
              "          '<a target=\"_blank\" href=https://colab.research.google.com/notebooks/data_table.ipynb>data table notebook</a>'\n",
              "          + ' to learn more about interactive tables.';\n",
              "        element.innerHTML = '';\n",
              "        dataTable['output_type'] = 'display_data';\n",
              "        await google.colab.output.renderOutput(dataTable, element);\n",
              "        const docLink = document.createElement('div');\n",
              "        docLink.innerHTML = docLinkHtml;\n",
              "        element.appendChild(docLink);\n",
              "      }\n",
              "    </script>\n",
              "  </div>\n",
              "\n",
              "\n",
              "    <div id=\"df-0802276b-5302-4645-b851-89bfaafe0ea5\">\n",
              "      <button class=\"colab-df-quickchart\" onclick=\"quickchart('df-0802276b-5302-4645-b851-89bfaafe0ea5')\"\n",
              "                title=\"Suggest charts\"\n",
              "                style=\"display:none;\">\n",
              "\n",
              "<svg xmlns=\"http://www.w3.org/2000/svg\" height=\"24px\"viewBox=\"0 0 24 24\"\n",
              "     width=\"24px\">\n",
              "    <g>\n",
              "        <path d=\"M19 3H5c-1.1 0-2 .9-2 2v14c0 1.1.9 2 2 2h14c1.1 0 2-.9 2-2V5c0-1.1-.9-2-2-2zM9 17H7v-7h2v7zm4 0h-2V7h2v10zm4 0h-2v-4h2v4z\"/>\n",
              "    </g>\n",
              "</svg>\n",
              "      </button>\n",
              "\n",
              "<style>\n",
              "  .colab-df-quickchart {\n",
              "      --bg-color: #E8F0FE;\n",
              "      --fill-color: #1967D2;\n",
              "      --hover-bg-color: #E2EBFA;\n",
              "      --hover-fill-color: #174EA6;\n",
              "      --disabled-fill-color: #AAA;\n",
              "      --disabled-bg-color: #DDD;\n",
              "  }\n",
              "\n",
              "  [theme=dark] .colab-df-quickchart {\n",
              "      --bg-color: #3B4455;\n",
              "      --fill-color: #D2E3FC;\n",
              "      --hover-bg-color: #434B5C;\n",
              "      --hover-fill-color: #FFFFFF;\n",
              "      --disabled-bg-color: #3B4455;\n",
              "      --disabled-fill-color: #666;\n",
              "  }\n",
              "\n",
              "  .colab-df-quickchart {\n",
              "    background-color: var(--bg-color);\n",
              "    border: none;\n",
              "    border-radius: 50%;\n",
              "    cursor: pointer;\n",
              "    display: none;\n",
              "    fill: var(--fill-color);\n",
              "    height: 32px;\n",
              "    padding: 0;\n",
              "    width: 32px;\n",
              "  }\n",
              "\n",
              "  .colab-df-quickchart:hover {\n",
              "    background-color: var(--hover-bg-color);\n",
              "    box-shadow: 0 1px 2px rgba(60, 64, 67, 0.3), 0 1px 3px 1px rgba(60, 64, 67, 0.15);\n",
              "    fill: var(--button-hover-fill-color);\n",
              "  }\n",
              "\n",
              "  .colab-df-quickchart-complete:disabled,\n",
              "  .colab-df-quickchart-complete:disabled:hover {\n",
              "    background-color: var(--disabled-bg-color);\n",
              "    fill: var(--disabled-fill-color);\n",
              "    box-shadow: none;\n",
              "  }\n",
              "\n",
              "  .colab-df-spinner {\n",
              "    border: 2px solid var(--fill-color);\n",
              "    border-color: transparent;\n",
              "    border-bottom-color: var(--fill-color);\n",
              "    animation:\n",
              "      spin 1s steps(1) infinite;\n",
              "  }\n",
              "\n",
              "  @keyframes spin {\n",
              "    0% {\n",
              "      border-color: transparent;\n",
              "      border-bottom-color: var(--fill-color);\n",
              "      border-left-color: var(--fill-color);\n",
              "    }\n",
              "    20% {\n",
              "      border-color: transparent;\n",
              "      border-left-color: var(--fill-color);\n",
              "      border-top-color: var(--fill-color);\n",
              "    }\n",
              "    30% {\n",
              "      border-color: transparent;\n",
              "      border-left-color: var(--fill-color);\n",
              "      border-top-color: var(--fill-color);\n",
              "      border-right-color: var(--fill-color);\n",
              "    }\n",
              "    40% {\n",
              "      border-color: transparent;\n",
              "      border-right-color: var(--fill-color);\n",
              "      border-top-color: var(--fill-color);\n",
              "    }\n",
              "    60% {\n",
              "      border-color: transparent;\n",
              "      border-right-color: var(--fill-color);\n",
              "    }\n",
              "    80% {\n",
              "      border-color: transparent;\n",
              "      border-right-color: var(--fill-color);\n",
              "      border-bottom-color: var(--fill-color);\n",
              "    }\n",
              "    90% {\n",
              "      border-color: transparent;\n",
              "      border-bottom-color: var(--fill-color);\n",
              "    }\n",
              "  }\n",
              "</style>\n",
              "\n",
              "      <script>\n",
              "        async function quickchart(key) {\n",
              "          const quickchartButtonEl =\n",
              "            document.querySelector('#' + key + ' button');\n",
              "          quickchartButtonEl.disabled = true;  // To prevent multiple clicks.\n",
              "          quickchartButtonEl.classList.add('colab-df-spinner');\n",
              "          try {\n",
              "            const charts = await google.colab.kernel.invokeFunction(\n",
              "                'suggestCharts', [key], {});\n",
              "          } catch (error) {\n",
              "            console.error('Error during call to suggestCharts:', error);\n",
              "          }\n",
              "          quickchartButtonEl.classList.remove('colab-df-spinner');\n",
              "          quickchartButtonEl.classList.add('colab-df-quickchart-complete');\n",
              "        }\n",
              "        (() => {\n",
              "          let quickchartButtonEl =\n",
              "            document.querySelector('#df-0802276b-5302-4645-b851-89bfaafe0ea5 button');\n",
              "          quickchartButtonEl.style.display =\n",
              "            google.colab.kernel.accessAllowed ? 'block' : 'none';\n",
              "        })();\n",
              "      </script>\n",
              "    </div>\n",
              "\n",
              "    </div>\n",
              "  </div>\n"
            ],
            "application/vnd.google.colaboratory.intrinsic+json": {
              "type": "dataframe",
              "summary": "{\n  \"name\": \"X[:4]\",\n  \"rows\": 4,\n  \"fields\": [\n    {\n      \"column\": \"intercept\",\n      \"properties\": {\n        \"dtype\": \"number\",\n        \"std\": 0.0,\n        \"min\": 1.0,\n        \"max\": 1.0,\n        \"num_unique_values\": 1,\n        \"samples\": [\n          1.0\n        ],\n        \"semantic_type\": \"\",\n        \"description\": \"\"\n      }\n    },\n    {\n      \"column\": \"lstat\",\n      \"properties\": {\n        \"dtype\": \"number\",\n        \"std\": 2.709703243284524,\n        \"min\": 2.94,\n        \"max\": 9.14,\n        \"num_unique_values\": 4,\n        \"samples\": [\n          9.14\n        ],\n        \"semantic_type\": \"\",\n        \"description\": \"\"\n      }\n    }\n  ]\n}"
            }
          },
          "metadata": {},
          "execution_count": 53
        }
      ],
      "source": [
        "design = MS(['lstat'])\n",
        "design = design.fit(Boston)\n",
        "X = design.transform(Boston)\n",
        "X[:4]"
      ]
    },
    {
      "cell_type": "markdown",
      "id": "f35e5292",
      "metadata": {
        "id": "f35e5292"
      },
      "source": [
        "In this simple case, the `fit()`  method does very little; it simply checks that the variable `'lstat'` specified in `design` exists in `Boston`. Then `transform()` constructs the model matrix with two columns: an `intercept` and the variable `lstat`.\n",
        "\n",
        "These two operations can be  combined with the\n",
        "`fit_transform()`  method."
      ]
    },
    {
      "cell_type": "code",
      "execution_count": 54,
      "id": "d5c7b370",
      "metadata": {
        "execution": {
          "iopub.execute_input": "2024-06-04T23:19:08.025839Z",
          "iopub.status.busy": "2024-06-04T23:19:08.025769Z",
          "iopub.status.idle": "2024-06-04T23:19:08.030216Z",
          "shell.execute_reply": "2024-06-04T23:19:08.030007Z"
        },
        "lines_to_next_cell": 0,
        "colab": {
          "base_uri": "https://localhost:8080/",
          "height": 175
        },
        "id": "d5c7b370",
        "outputId": "0fadfcc6-bf7a-4a9e-9728-6a3cfd4b7343"
      },
      "outputs": [
        {
          "output_type": "execute_result",
          "data": {
            "text/plain": [
              "   intercept  lstat\n",
              "0        1.0   4.98\n",
              "1        1.0   9.14\n",
              "2        1.0   4.03\n",
              "3        1.0   2.94"
            ],
            "text/html": [
              "\n",
              "  <div id=\"df-f0ce9566-9a34-47b9-8c95-530931035325\" class=\"colab-df-container\">\n",
              "    <div>\n",
              "<style scoped>\n",
              "    .dataframe tbody tr th:only-of-type {\n",
              "        vertical-align: middle;\n",
              "    }\n",
              "\n",
              "    .dataframe tbody tr th {\n",
              "        vertical-align: top;\n",
              "    }\n",
              "\n",
              "    .dataframe thead th {\n",
              "        text-align: right;\n",
              "    }\n",
              "</style>\n",
              "<table border=\"1\" class=\"dataframe\">\n",
              "  <thead>\n",
              "    <tr style=\"text-align: right;\">\n",
              "      <th></th>\n",
              "      <th>intercept</th>\n",
              "      <th>lstat</th>\n",
              "    </tr>\n",
              "  </thead>\n",
              "  <tbody>\n",
              "    <tr>\n",
              "      <th>0</th>\n",
              "      <td>1.0</td>\n",
              "      <td>4.98</td>\n",
              "    </tr>\n",
              "    <tr>\n",
              "      <th>1</th>\n",
              "      <td>1.0</td>\n",
              "      <td>9.14</td>\n",
              "    </tr>\n",
              "    <tr>\n",
              "      <th>2</th>\n",
              "      <td>1.0</td>\n",
              "      <td>4.03</td>\n",
              "    </tr>\n",
              "    <tr>\n",
              "      <th>3</th>\n",
              "      <td>1.0</td>\n",
              "      <td>2.94</td>\n",
              "    </tr>\n",
              "  </tbody>\n",
              "</table>\n",
              "</div>\n",
              "    <div class=\"colab-df-buttons\">\n",
              "\n",
              "  <div class=\"colab-df-container\">\n",
              "    <button class=\"colab-df-convert\" onclick=\"convertToInteractive('df-f0ce9566-9a34-47b9-8c95-530931035325')\"\n",
              "            title=\"Convert this dataframe to an interactive table.\"\n",
              "            style=\"display:none;\">\n",
              "\n",
              "  <svg xmlns=\"http://www.w3.org/2000/svg\" height=\"24px\" viewBox=\"0 -960 960 960\">\n",
              "    <path d=\"M120-120v-720h720v720H120Zm60-500h600v-160H180v160Zm220 220h160v-160H400v160Zm0 220h160v-160H400v160ZM180-400h160v-160H180v160Zm440 0h160v-160H620v160ZM180-180h160v-160H180v160Zm440 0h160v-160H620v160Z\"/>\n",
              "  </svg>\n",
              "    </button>\n",
              "\n",
              "  <style>\n",
              "    .colab-df-container {\n",
              "      display:flex;\n",
              "      gap: 12px;\n",
              "    }\n",
              "\n",
              "    .colab-df-convert {\n",
              "      background-color: #E8F0FE;\n",
              "      border: none;\n",
              "      border-radius: 50%;\n",
              "      cursor: pointer;\n",
              "      display: none;\n",
              "      fill: #1967D2;\n",
              "      height: 32px;\n",
              "      padding: 0 0 0 0;\n",
              "      width: 32px;\n",
              "    }\n",
              "\n",
              "    .colab-df-convert:hover {\n",
              "      background-color: #E2EBFA;\n",
              "      box-shadow: 0px 1px 2px rgba(60, 64, 67, 0.3), 0px 1px 3px 1px rgba(60, 64, 67, 0.15);\n",
              "      fill: #174EA6;\n",
              "    }\n",
              "\n",
              "    .colab-df-buttons div {\n",
              "      margin-bottom: 4px;\n",
              "    }\n",
              "\n",
              "    [theme=dark] .colab-df-convert {\n",
              "      background-color: #3B4455;\n",
              "      fill: #D2E3FC;\n",
              "    }\n",
              "\n",
              "    [theme=dark] .colab-df-convert:hover {\n",
              "      background-color: #434B5C;\n",
              "      box-shadow: 0px 1px 3px 1px rgba(0, 0, 0, 0.15);\n",
              "      filter: drop-shadow(0px 1px 2px rgba(0, 0, 0, 0.3));\n",
              "      fill: #FFFFFF;\n",
              "    }\n",
              "  </style>\n",
              "\n",
              "    <script>\n",
              "      const buttonEl =\n",
              "        document.querySelector('#df-f0ce9566-9a34-47b9-8c95-530931035325 button.colab-df-convert');\n",
              "      buttonEl.style.display =\n",
              "        google.colab.kernel.accessAllowed ? 'block' : 'none';\n",
              "\n",
              "      async function convertToInteractive(key) {\n",
              "        const element = document.querySelector('#df-f0ce9566-9a34-47b9-8c95-530931035325');\n",
              "        const dataTable =\n",
              "          await google.colab.kernel.invokeFunction('convertToInteractive',\n",
              "                                                    [key], {});\n",
              "        if (!dataTable) return;\n",
              "\n",
              "        const docLinkHtml = 'Like what you see? Visit the ' +\n",
              "          '<a target=\"_blank\" href=https://colab.research.google.com/notebooks/data_table.ipynb>data table notebook</a>'\n",
              "          + ' to learn more about interactive tables.';\n",
              "        element.innerHTML = '';\n",
              "        dataTable['output_type'] = 'display_data';\n",
              "        await google.colab.output.renderOutput(dataTable, element);\n",
              "        const docLink = document.createElement('div');\n",
              "        docLink.innerHTML = docLinkHtml;\n",
              "        element.appendChild(docLink);\n",
              "      }\n",
              "    </script>\n",
              "  </div>\n",
              "\n",
              "\n",
              "    <div id=\"df-c561db97-2fd1-4324-a32e-81275097c1ed\">\n",
              "      <button class=\"colab-df-quickchart\" onclick=\"quickchart('df-c561db97-2fd1-4324-a32e-81275097c1ed')\"\n",
              "                title=\"Suggest charts\"\n",
              "                style=\"display:none;\">\n",
              "\n",
              "<svg xmlns=\"http://www.w3.org/2000/svg\" height=\"24px\"viewBox=\"0 0 24 24\"\n",
              "     width=\"24px\">\n",
              "    <g>\n",
              "        <path d=\"M19 3H5c-1.1 0-2 .9-2 2v14c0 1.1.9 2 2 2h14c1.1 0 2-.9 2-2V5c0-1.1-.9-2-2-2zM9 17H7v-7h2v7zm4 0h-2V7h2v10zm4 0h-2v-4h2v4z\"/>\n",
              "    </g>\n",
              "</svg>\n",
              "      </button>\n",
              "\n",
              "<style>\n",
              "  .colab-df-quickchart {\n",
              "      --bg-color: #E8F0FE;\n",
              "      --fill-color: #1967D2;\n",
              "      --hover-bg-color: #E2EBFA;\n",
              "      --hover-fill-color: #174EA6;\n",
              "      --disabled-fill-color: #AAA;\n",
              "      --disabled-bg-color: #DDD;\n",
              "  }\n",
              "\n",
              "  [theme=dark] .colab-df-quickchart {\n",
              "      --bg-color: #3B4455;\n",
              "      --fill-color: #D2E3FC;\n",
              "      --hover-bg-color: #434B5C;\n",
              "      --hover-fill-color: #FFFFFF;\n",
              "      --disabled-bg-color: #3B4455;\n",
              "      --disabled-fill-color: #666;\n",
              "  }\n",
              "\n",
              "  .colab-df-quickchart {\n",
              "    background-color: var(--bg-color);\n",
              "    border: none;\n",
              "    border-radius: 50%;\n",
              "    cursor: pointer;\n",
              "    display: none;\n",
              "    fill: var(--fill-color);\n",
              "    height: 32px;\n",
              "    padding: 0;\n",
              "    width: 32px;\n",
              "  }\n",
              "\n",
              "  .colab-df-quickchart:hover {\n",
              "    background-color: var(--hover-bg-color);\n",
              "    box-shadow: 0 1px 2px rgba(60, 64, 67, 0.3), 0 1px 3px 1px rgba(60, 64, 67, 0.15);\n",
              "    fill: var(--button-hover-fill-color);\n",
              "  }\n",
              "\n",
              "  .colab-df-quickchart-complete:disabled,\n",
              "  .colab-df-quickchart-complete:disabled:hover {\n",
              "    background-color: var(--disabled-bg-color);\n",
              "    fill: var(--disabled-fill-color);\n",
              "    box-shadow: none;\n",
              "  }\n",
              "\n",
              "  .colab-df-spinner {\n",
              "    border: 2px solid var(--fill-color);\n",
              "    border-color: transparent;\n",
              "    border-bottom-color: var(--fill-color);\n",
              "    animation:\n",
              "      spin 1s steps(1) infinite;\n",
              "  }\n",
              "\n",
              "  @keyframes spin {\n",
              "    0% {\n",
              "      border-color: transparent;\n",
              "      border-bottom-color: var(--fill-color);\n",
              "      border-left-color: var(--fill-color);\n",
              "    }\n",
              "    20% {\n",
              "      border-color: transparent;\n",
              "      border-left-color: var(--fill-color);\n",
              "      border-top-color: var(--fill-color);\n",
              "    }\n",
              "    30% {\n",
              "      border-color: transparent;\n",
              "      border-left-color: var(--fill-color);\n",
              "      border-top-color: var(--fill-color);\n",
              "      border-right-color: var(--fill-color);\n",
              "    }\n",
              "    40% {\n",
              "      border-color: transparent;\n",
              "      border-right-color: var(--fill-color);\n",
              "      border-top-color: var(--fill-color);\n",
              "    }\n",
              "    60% {\n",
              "      border-color: transparent;\n",
              "      border-right-color: var(--fill-color);\n",
              "    }\n",
              "    80% {\n",
              "      border-color: transparent;\n",
              "      border-right-color: var(--fill-color);\n",
              "      border-bottom-color: var(--fill-color);\n",
              "    }\n",
              "    90% {\n",
              "      border-color: transparent;\n",
              "      border-bottom-color: var(--fill-color);\n",
              "    }\n",
              "  }\n",
              "</style>\n",
              "\n",
              "      <script>\n",
              "        async function quickchart(key) {\n",
              "          const quickchartButtonEl =\n",
              "            document.querySelector('#' + key + ' button');\n",
              "          quickchartButtonEl.disabled = true;  // To prevent multiple clicks.\n",
              "          quickchartButtonEl.classList.add('colab-df-spinner');\n",
              "          try {\n",
              "            const charts = await google.colab.kernel.invokeFunction(\n",
              "                'suggestCharts', [key], {});\n",
              "          } catch (error) {\n",
              "            console.error('Error during call to suggestCharts:', error);\n",
              "          }\n",
              "          quickchartButtonEl.classList.remove('colab-df-spinner');\n",
              "          quickchartButtonEl.classList.add('colab-df-quickchart-complete');\n",
              "        }\n",
              "        (() => {\n",
              "          let quickchartButtonEl =\n",
              "            document.querySelector('#df-c561db97-2fd1-4324-a32e-81275097c1ed button');\n",
              "          quickchartButtonEl.style.display =\n",
              "            google.colab.kernel.accessAllowed ? 'block' : 'none';\n",
              "        })();\n",
              "      </script>\n",
              "    </div>\n",
              "\n",
              "    </div>\n",
              "  </div>\n"
            ],
            "application/vnd.google.colaboratory.intrinsic+json": {
              "type": "dataframe",
              "summary": "{\n  \"name\": \"X[:4]\",\n  \"rows\": 4,\n  \"fields\": [\n    {\n      \"column\": \"intercept\",\n      \"properties\": {\n        \"dtype\": \"number\",\n        \"std\": 0.0,\n        \"min\": 1.0,\n        \"max\": 1.0,\n        \"num_unique_values\": 1,\n        \"samples\": [\n          1.0\n        ],\n        \"semantic_type\": \"\",\n        \"description\": \"\"\n      }\n    },\n    {\n      \"column\": \"lstat\",\n      \"properties\": {\n        \"dtype\": \"number\",\n        \"std\": 2.709703243284524,\n        \"min\": 2.94,\n        \"max\": 9.14,\n        \"num_unique_values\": 4,\n        \"samples\": [\n          9.14\n        ],\n        \"semantic_type\": \"\",\n        \"description\": \"\"\n      }\n    }\n  ]\n}"
            }
          },
          "metadata": {},
          "execution_count": 54
        }
      ],
      "source": [
        "design = MS(['lstat'])\n",
        "X = design.fit_transform(Boston)\n",
        "X[:4]"
      ]
    },
    {
      "cell_type": "markdown",
      "id": "8f09689d",
      "metadata": {
        "id": "8f09689d"
      },
      "source": [
        "Note that, as in the previous code chunk when the two steps were done separately, the `design` object is changed as a result of the `fit()` operation. The power of this pipeline will become clearer when we fit more complex models that involve interactions and transformations."
      ]
    },
    {
      "cell_type": "markdown",
      "id": "94a7c0aa",
      "metadata": {
        "id": "94a7c0aa"
      },
      "source": [
        "Let's return to our fitted regression model.\n",
        "The object\n",
        "`results` has several methods that can be used for inference.\n",
        "We already presented a function `summarize()` for showing the essentials of the fit.\n",
        "For a full and somewhat exhaustive summary of the fit, we can use the `summary()`\n",
        "method."
      ]
    },
    {
      "cell_type": "code",
      "execution_count": 55,
      "id": "5b205c0b",
      "metadata": {
        "execution": {
          "iopub.execute_input": "2024-06-04T23:19:08.031520Z",
          "iopub.status.busy": "2024-06-04T23:19:08.031448Z",
          "iopub.status.idle": "2024-06-04T23:19:08.039162Z",
          "shell.execute_reply": "2024-06-04T23:19:08.038952Z"
        },
        "colab": {
          "base_uri": "https://localhost:8080/",
          "height": 448
        },
        "id": "5b205c0b",
        "outputId": "1eeb0a34-3802-4581-f63a-faac31dcf4a1"
      },
      "outputs": [
        {
          "output_type": "execute_result",
          "data": {
            "text/plain": [
              "<class 'statsmodels.iolib.summary.Summary'>\n",
              "\"\"\"\n",
              "                                 OLS Regression Results                                \n",
              "=======================================================================================\n",
              "Dep. Variable:                   medv   R-squared (uncentered):                   0.449\n",
              "Model:                            OLS   Adj. R-squared (uncentered):              0.448\n",
              "Method:                 Least Squares   F-statistic:                              410.9\n",
              "Date:                Thu, 28 Aug 2025   Prob (F-statistic):                    2.71e-67\n",
              "Time:                        02:38:30   Log-Likelihood:                         -2182.4\n",
              "No. Observations:                 506   AIC:                                      4367.\n",
              "Df Residuals:                     505   BIC:                                      4371.\n",
              "Df Model:                           1                                                  \n",
              "Covariance Type:            nonrobust                                                  \n",
              "==============================================================================\n",
              "                 coef    std err          t      P>|t|      [0.025      0.975]\n",
              "------------------------------------------------------------------------------\n",
              "lstat          1.1221      0.055     20.271      0.000       1.013       1.231\n",
              "==============================================================================\n",
              "Omnibus:                        1.113   Durbin-Watson:                   0.369\n",
              "Prob(Omnibus):                  0.573   Jarque-Bera (JB):                1.051\n",
              "Skew:                           0.112   Prob(JB):                        0.591\n",
              "Kurtosis:                       3.009   Cond. No.                         1.00\n",
              "==============================================================================\n",
              "\n",
              "Notes:\n",
              "[1] R² is computed without centering (uncentered) since the model does not contain a constant.\n",
              "[2] Standard Errors assume that the covariance matrix of the errors is correctly specified.\n",
              "\"\"\""
            ],
            "text/html": [
              "<table class=\"simpletable\">\n",
              "<caption>OLS Regression Results</caption>\n",
              "<tr>\n",
              "  <th>Dep. Variable:</th>          <td>medv</td>       <th>  R-squared (uncentered):</th>      <td>   0.449</td>\n",
              "</tr>\n",
              "<tr>\n",
              "  <th>Model:</th>                   <td>OLS</td>       <th>  Adj. R-squared (uncentered):</th> <td>   0.448</td>\n",
              "</tr>\n",
              "<tr>\n",
              "  <th>Method:</th>             <td>Least Squares</td>  <th>  F-statistic:       </th>          <td>   410.9</td>\n",
              "</tr>\n",
              "<tr>\n",
              "  <th>Date:</th>             <td>Thu, 28 Aug 2025</td> <th>  Prob (F-statistic):</th>          <td>2.71e-67</td>\n",
              "</tr>\n",
              "<tr>\n",
              "  <th>Time:</th>                 <td>02:38:30</td>     <th>  Log-Likelihood:    </th>          <td> -2182.4</td>\n",
              "</tr>\n",
              "<tr>\n",
              "  <th>No. Observations:</th>      <td>   506</td>      <th>  AIC:               </th>          <td>   4367.</td>\n",
              "</tr>\n",
              "<tr>\n",
              "  <th>Df Residuals:</th>          <td>   505</td>      <th>  BIC:               </th>          <td>   4371.</td>\n",
              "</tr>\n",
              "<tr>\n",
              "  <th>Df Model:</th>              <td>     1</td>      <th>                     </th>              <td> </td>   \n",
              "</tr>\n",
              "<tr>\n",
              "  <th>Covariance Type:</th>      <td>nonrobust</td>    <th>                     </th>              <td> </td>   \n",
              "</tr>\n",
              "</table>\n",
              "<table class=\"simpletable\">\n",
              "<tr>\n",
              "    <td></td>       <th>coef</th>     <th>std err</th>      <th>t</th>      <th>P>|t|</th>  <th>[0.025</th>    <th>0.975]</th>  \n",
              "</tr>\n",
              "<tr>\n",
              "  <th>lstat</th> <td>    1.1221</td> <td>    0.055</td> <td>   20.271</td> <td> 0.000</td> <td>    1.013</td> <td>    1.231</td>\n",
              "</tr>\n",
              "</table>\n",
              "<table class=\"simpletable\">\n",
              "<tr>\n",
              "  <th>Omnibus:</th>       <td> 1.113</td> <th>  Durbin-Watson:     </th> <td>   0.369</td>\n",
              "</tr>\n",
              "<tr>\n",
              "  <th>Prob(Omnibus):</th> <td> 0.573</td> <th>  Jarque-Bera (JB):  </th> <td>   1.051</td>\n",
              "</tr>\n",
              "<tr>\n",
              "  <th>Skew:</th>          <td> 0.112</td> <th>  Prob(JB):          </th> <td>   0.591</td>\n",
              "</tr>\n",
              "<tr>\n",
              "  <th>Kurtosis:</th>      <td> 3.009</td> <th>  Cond. No.          </th> <td>    1.00</td>\n",
              "</tr>\n",
              "</table><br/><br/>Notes:<br/>[1] R² is computed without centering (uncentered) since the model does not contain a constant.<br/>[2] Standard Errors assume that the covariance matrix of the errors is correctly specified."
            ],
            "text/latex": "\\begin{center}\n\\begin{tabular}{lclc}\n\\toprule\n\\textbf{Dep. Variable:}    &       medv       & \\textbf{  R-squared (uncentered):}      &     0.449   \\\\\n\\textbf{Model:}            &       OLS        & \\textbf{  Adj. R-squared (uncentered):} &     0.448   \\\\\n\\textbf{Method:}           &  Least Squares   & \\textbf{  F-statistic:       }          &     410.9   \\\\\n\\textbf{Date:}             & Thu, 28 Aug 2025 & \\textbf{  Prob (F-statistic):}          &  2.71e-67   \\\\\n\\textbf{Time:}             &     02:38:30     & \\textbf{  Log-Likelihood:    }          &   -2182.4   \\\\\n\\textbf{No. Observations:} &         506      & \\textbf{  AIC:               }          &     4367.   \\\\\n\\textbf{Df Residuals:}     &         505      & \\textbf{  BIC:               }          &     4371.   \\\\\n\\textbf{Df Model:}         &           1      & \\textbf{                     }          &             \\\\\n\\textbf{Covariance Type:}  &    nonrobust     & \\textbf{                     }          &             \\\\\n\\bottomrule\n\\end{tabular}\n\\begin{tabular}{lcccccc}\n               & \\textbf{coef} & \\textbf{std err} & \\textbf{t} & \\textbf{P$> |$t$|$} & \\textbf{[0.025} & \\textbf{0.975]}  \\\\\n\\midrule\n\\textbf{lstat} &       1.1221  &        0.055     &    20.271  &         0.000        &        1.013    &        1.231     \\\\\n\\bottomrule\n\\end{tabular}\n\\begin{tabular}{lclc}\n\\textbf{Omnibus:}       &  1.113 & \\textbf{  Durbin-Watson:     } &    0.369  \\\\\n\\textbf{Prob(Omnibus):} &  0.573 & \\textbf{  Jarque-Bera (JB):  } &    1.051  \\\\\n\\textbf{Skew:}          &  0.112 & \\textbf{  Prob(JB):          } &    0.591  \\\\\n\\textbf{Kurtosis:}      &  3.009 & \\textbf{  Cond. No.          } &     1.00  \\\\\n\\bottomrule\n\\end{tabular}\n%\\caption{OLS Regression Results}\n\\end{center}\n\nNotes: \\newline\n [1] R² is computed without centering (uncentered) since the model does not contain a constant. \\newline\n [2] Standard Errors assume that the covariance matrix of the errors is correctly specified."
          },
          "metadata": {},
          "execution_count": 55
        }
      ],
      "source": [
        "results.summary()\n"
      ]
    },
    {
      "cell_type": "markdown",
      "id": "6c30baa4",
      "metadata": {
        "id": "6c30baa4"
      },
      "source": [
        "The fitted coefficients can also be retrieved as the\n",
        "`params` attribute of `results`."
      ]
    },
    {
      "cell_type": "code",
      "execution_count": 56,
      "id": "4b024467",
      "metadata": {
        "execution": {
          "iopub.execute_input": "2024-06-04T23:19:08.040404Z",
          "iopub.status.busy": "2024-06-04T23:19:08.040333Z",
          "iopub.status.idle": "2024-06-04T23:19:08.042402Z",
          "shell.execute_reply": "2024-06-04T23:19:08.042202Z"
        },
        "lines_to_next_cell": 2,
        "colab": {
          "base_uri": "https://localhost:8080/",
          "height": 115
        },
        "id": "4b024467",
        "outputId": "f5ec83db-1b33-400f-8927-66cd8d42eeb0"
      },
      "outputs": [
        {
          "output_type": "execute_result",
          "data": {
            "text/plain": [
              "lstat    1.122104\n",
              "dtype: float64"
            ],
            "text/html": [
              "<div>\n",
              "<style scoped>\n",
              "    .dataframe tbody tr th:only-of-type {\n",
              "        vertical-align: middle;\n",
              "    }\n",
              "\n",
              "    .dataframe tbody tr th {\n",
              "        vertical-align: top;\n",
              "    }\n",
              "\n",
              "    .dataframe thead th {\n",
              "        text-align: right;\n",
              "    }\n",
              "</style>\n",
              "<table border=\"1\" class=\"dataframe\">\n",
              "  <thead>\n",
              "    <tr style=\"text-align: right;\">\n",
              "      <th></th>\n",
              "      <th>0</th>\n",
              "    </tr>\n",
              "  </thead>\n",
              "  <tbody>\n",
              "    <tr>\n",
              "      <th>lstat</th>\n",
              "      <td>1.122104</td>\n",
              "    </tr>\n",
              "  </tbody>\n",
              "</table>\n",
              "</div><br><label><b>dtype:</b> float64</label>"
            ]
          },
          "metadata": {},
          "execution_count": 56
        }
      ],
      "source": [
        "results.params\n"
      ]
    },
    {
      "cell_type": "markdown",
      "id": "fb7bbd4c",
      "metadata": {
        "id": "fb7bbd4c"
      },
      "source": [
        "The `get_prediction()`  method can be used to obtain predictions, and produce confidence intervals and\n",
        "prediction intervals for the prediction of  `medv`  for  given values of  `lstat`.\n",
        "\n",
        "We first create a new data frame, in this case containing only the variable `lstat`, with the values for this variable at which we wish to make predictions.\n",
        "We then use the `transform()` method of `design` to create the corresponding model matrix."
      ]
    },
    {
      "cell_type": "code",
      "execution_count": 57,
      "id": "195e0ace",
      "metadata": {
        "execution": {
          "iopub.execute_input": "2024-06-04T23:19:08.043693Z",
          "iopub.status.busy": "2024-06-04T23:19:08.043622Z",
          "iopub.status.idle": "2024-06-04T23:19:08.046777Z",
          "shell.execute_reply": "2024-06-04T23:19:08.046559Z"
        },
        "colab": {
          "base_uri": "https://localhost:8080/",
          "height": 143
        },
        "id": "195e0ace",
        "outputId": "26512f85-cded-466f-b906-a9798f131977"
      },
      "outputs": [
        {
          "output_type": "execute_result",
          "data": {
            "text/plain": [
              "   intercept  lstat\n",
              "0        1.0      5\n",
              "1        1.0     10\n",
              "2        1.0     15"
            ],
            "text/html": [
              "\n",
              "  <div id=\"df-baf17507-b46f-4295-a941-de0c047f14d6\" class=\"colab-df-container\">\n",
              "    <div>\n",
              "<style scoped>\n",
              "    .dataframe tbody tr th:only-of-type {\n",
              "        vertical-align: middle;\n",
              "    }\n",
              "\n",
              "    .dataframe tbody tr th {\n",
              "        vertical-align: top;\n",
              "    }\n",
              "\n",
              "    .dataframe thead th {\n",
              "        text-align: right;\n",
              "    }\n",
              "</style>\n",
              "<table border=\"1\" class=\"dataframe\">\n",
              "  <thead>\n",
              "    <tr style=\"text-align: right;\">\n",
              "      <th></th>\n",
              "      <th>intercept</th>\n",
              "      <th>lstat</th>\n",
              "    </tr>\n",
              "  </thead>\n",
              "  <tbody>\n",
              "    <tr>\n",
              "      <th>0</th>\n",
              "      <td>1.0</td>\n",
              "      <td>5</td>\n",
              "    </tr>\n",
              "    <tr>\n",
              "      <th>1</th>\n",
              "      <td>1.0</td>\n",
              "      <td>10</td>\n",
              "    </tr>\n",
              "    <tr>\n",
              "      <th>2</th>\n",
              "      <td>1.0</td>\n",
              "      <td>15</td>\n",
              "    </tr>\n",
              "  </tbody>\n",
              "</table>\n",
              "</div>\n",
              "    <div class=\"colab-df-buttons\">\n",
              "\n",
              "  <div class=\"colab-df-container\">\n",
              "    <button class=\"colab-df-convert\" onclick=\"convertToInteractive('df-baf17507-b46f-4295-a941-de0c047f14d6')\"\n",
              "            title=\"Convert this dataframe to an interactive table.\"\n",
              "            style=\"display:none;\">\n",
              "\n",
              "  <svg xmlns=\"http://www.w3.org/2000/svg\" height=\"24px\" viewBox=\"0 -960 960 960\">\n",
              "    <path d=\"M120-120v-720h720v720H120Zm60-500h600v-160H180v160Zm220 220h160v-160H400v160Zm0 220h160v-160H400v160ZM180-400h160v-160H180v160Zm440 0h160v-160H620v160ZM180-180h160v-160H180v160Zm440 0h160v-160H620v160Z\"/>\n",
              "  </svg>\n",
              "    </button>\n",
              "\n",
              "  <style>\n",
              "    .colab-df-container {\n",
              "      display:flex;\n",
              "      gap: 12px;\n",
              "    }\n",
              "\n",
              "    .colab-df-convert {\n",
              "      background-color: #E8F0FE;\n",
              "      border: none;\n",
              "      border-radius: 50%;\n",
              "      cursor: pointer;\n",
              "      display: none;\n",
              "      fill: #1967D2;\n",
              "      height: 32px;\n",
              "      padding: 0 0 0 0;\n",
              "      width: 32px;\n",
              "    }\n",
              "\n",
              "    .colab-df-convert:hover {\n",
              "      background-color: #E2EBFA;\n",
              "      box-shadow: 0px 1px 2px rgba(60, 64, 67, 0.3), 0px 1px 3px 1px rgba(60, 64, 67, 0.15);\n",
              "      fill: #174EA6;\n",
              "    }\n",
              "\n",
              "    .colab-df-buttons div {\n",
              "      margin-bottom: 4px;\n",
              "    }\n",
              "\n",
              "    [theme=dark] .colab-df-convert {\n",
              "      background-color: #3B4455;\n",
              "      fill: #D2E3FC;\n",
              "    }\n",
              "\n",
              "    [theme=dark] .colab-df-convert:hover {\n",
              "      background-color: #434B5C;\n",
              "      box-shadow: 0px 1px 3px 1px rgba(0, 0, 0, 0.15);\n",
              "      filter: drop-shadow(0px 1px 2px rgba(0, 0, 0, 0.3));\n",
              "      fill: #FFFFFF;\n",
              "    }\n",
              "  </style>\n",
              "\n",
              "    <script>\n",
              "      const buttonEl =\n",
              "        document.querySelector('#df-baf17507-b46f-4295-a941-de0c047f14d6 button.colab-df-convert');\n",
              "      buttonEl.style.display =\n",
              "        google.colab.kernel.accessAllowed ? 'block' : 'none';\n",
              "\n",
              "      async function convertToInteractive(key) {\n",
              "        const element = document.querySelector('#df-baf17507-b46f-4295-a941-de0c047f14d6');\n",
              "        const dataTable =\n",
              "          await google.colab.kernel.invokeFunction('convertToInteractive',\n",
              "                                                    [key], {});\n",
              "        if (!dataTable) return;\n",
              "\n",
              "        const docLinkHtml = 'Like what you see? Visit the ' +\n",
              "          '<a target=\"_blank\" href=https://colab.research.google.com/notebooks/data_table.ipynb>data table notebook</a>'\n",
              "          + ' to learn more about interactive tables.';\n",
              "        element.innerHTML = '';\n",
              "        dataTable['output_type'] = 'display_data';\n",
              "        await google.colab.output.renderOutput(dataTable, element);\n",
              "        const docLink = document.createElement('div');\n",
              "        docLink.innerHTML = docLinkHtml;\n",
              "        element.appendChild(docLink);\n",
              "      }\n",
              "    </script>\n",
              "  </div>\n",
              "\n",
              "\n",
              "    <div id=\"df-4290ac97-8d7e-4cca-9f0d-dfd1f2655c00\">\n",
              "      <button class=\"colab-df-quickchart\" onclick=\"quickchart('df-4290ac97-8d7e-4cca-9f0d-dfd1f2655c00')\"\n",
              "                title=\"Suggest charts\"\n",
              "                style=\"display:none;\">\n",
              "\n",
              "<svg xmlns=\"http://www.w3.org/2000/svg\" height=\"24px\"viewBox=\"0 0 24 24\"\n",
              "     width=\"24px\">\n",
              "    <g>\n",
              "        <path d=\"M19 3H5c-1.1 0-2 .9-2 2v14c0 1.1.9 2 2 2h14c1.1 0 2-.9 2-2V5c0-1.1-.9-2-2-2zM9 17H7v-7h2v7zm4 0h-2V7h2v10zm4 0h-2v-4h2v4z\"/>\n",
              "    </g>\n",
              "</svg>\n",
              "      </button>\n",
              "\n",
              "<style>\n",
              "  .colab-df-quickchart {\n",
              "      --bg-color: #E8F0FE;\n",
              "      --fill-color: #1967D2;\n",
              "      --hover-bg-color: #E2EBFA;\n",
              "      --hover-fill-color: #174EA6;\n",
              "      --disabled-fill-color: #AAA;\n",
              "      --disabled-bg-color: #DDD;\n",
              "  }\n",
              "\n",
              "  [theme=dark] .colab-df-quickchart {\n",
              "      --bg-color: #3B4455;\n",
              "      --fill-color: #D2E3FC;\n",
              "      --hover-bg-color: #434B5C;\n",
              "      --hover-fill-color: #FFFFFF;\n",
              "      --disabled-bg-color: #3B4455;\n",
              "      --disabled-fill-color: #666;\n",
              "  }\n",
              "\n",
              "  .colab-df-quickchart {\n",
              "    background-color: var(--bg-color);\n",
              "    border: none;\n",
              "    border-radius: 50%;\n",
              "    cursor: pointer;\n",
              "    display: none;\n",
              "    fill: var(--fill-color);\n",
              "    height: 32px;\n",
              "    padding: 0;\n",
              "    width: 32px;\n",
              "  }\n",
              "\n",
              "  .colab-df-quickchart:hover {\n",
              "    background-color: var(--hover-bg-color);\n",
              "    box-shadow: 0 1px 2px rgba(60, 64, 67, 0.3), 0 1px 3px 1px rgba(60, 64, 67, 0.15);\n",
              "    fill: var(--button-hover-fill-color);\n",
              "  }\n",
              "\n",
              "  .colab-df-quickchart-complete:disabled,\n",
              "  .colab-df-quickchart-complete:disabled:hover {\n",
              "    background-color: var(--disabled-bg-color);\n",
              "    fill: var(--disabled-fill-color);\n",
              "    box-shadow: none;\n",
              "  }\n",
              "\n",
              "  .colab-df-spinner {\n",
              "    border: 2px solid var(--fill-color);\n",
              "    border-color: transparent;\n",
              "    border-bottom-color: var(--fill-color);\n",
              "    animation:\n",
              "      spin 1s steps(1) infinite;\n",
              "  }\n",
              "\n",
              "  @keyframes spin {\n",
              "    0% {\n",
              "      border-color: transparent;\n",
              "      border-bottom-color: var(--fill-color);\n",
              "      border-left-color: var(--fill-color);\n",
              "    }\n",
              "    20% {\n",
              "      border-color: transparent;\n",
              "      border-left-color: var(--fill-color);\n",
              "      border-top-color: var(--fill-color);\n",
              "    }\n",
              "    30% {\n",
              "      border-color: transparent;\n",
              "      border-left-color: var(--fill-color);\n",
              "      border-top-color: var(--fill-color);\n",
              "      border-right-color: var(--fill-color);\n",
              "    }\n",
              "    40% {\n",
              "      border-color: transparent;\n",
              "      border-right-color: var(--fill-color);\n",
              "      border-top-color: var(--fill-color);\n",
              "    }\n",
              "    60% {\n",
              "      border-color: transparent;\n",
              "      border-right-color: var(--fill-color);\n",
              "    }\n",
              "    80% {\n",
              "      border-color: transparent;\n",
              "      border-right-color: var(--fill-color);\n",
              "      border-bottom-color: var(--fill-color);\n",
              "    }\n",
              "    90% {\n",
              "      border-color: transparent;\n",
              "      border-bottom-color: var(--fill-color);\n",
              "    }\n",
              "  }\n",
              "</style>\n",
              "\n",
              "      <script>\n",
              "        async function quickchart(key) {\n",
              "          const quickchartButtonEl =\n",
              "            document.querySelector('#' + key + ' button');\n",
              "          quickchartButtonEl.disabled = true;  // To prevent multiple clicks.\n",
              "          quickchartButtonEl.classList.add('colab-df-spinner');\n",
              "          try {\n",
              "            const charts = await google.colab.kernel.invokeFunction(\n",
              "                'suggestCharts', [key], {});\n",
              "          } catch (error) {\n",
              "            console.error('Error during call to suggestCharts:', error);\n",
              "          }\n",
              "          quickchartButtonEl.classList.remove('colab-df-spinner');\n",
              "          quickchartButtonEl.classList.add('colab-df-quickchart-complete');\n",
              "        }\n",
              "        (() => {\n",
              "          let quickchartButtonEl =\n",
              "            document.querySelector('#df-4290ac97-8d7e-4cca-9f0d-dfd1f2655c00 button');\n",
              "          quickchartButtonEl.style.display =\n",
              "            google.colab.kernel.accessAllowed ? 'block' : 'none';\n",
              "        })();\n",
              "      </script>\n",
              "    </div>\n",
              "\n",
              "  <div id=\"id_37b8d668-3b7b-4de8-8477-d80bf21e38ad\">\n",
              "    <style>\n",
              "      .colab-df-generate {\n",
              "        background-color: #E8F0FE;\n",
              "        border: none;\n",
              "        border-radius: 50%;\n",
              "        cursor: pointer;\n",
              "        display: none;\n",
              "        fill: #1967D2;\n",
              "        height: 32px;\n",
              "        padding: 0 0 0 0;\n",
              "        width: 32px;\n",
              "      }\n",
              "\n",
              "      .colab-df-generate:hover {\n",
              "        background-color: #E2EBFA;\n",
              "        box-shadow: 0px 1px 2px rgba(60, 64, 67, 0.3), 0px 1px 3px 1px rgba(60, 64, 67, 0.15);\n",
              "        fill: #174EA6;\n",
              "      }\n",
              "\n",
              "      [theme=dark] .colab-df-generate {\n",
              "        background-color: #3B4455;\n",
              "        fill: #D2E3FC;\n",
              "      }\n",
              "\n",
              "      [theme=dark] .colab-df-generate:hover {\n",
              "        background-color: #434B5C;\n",
              "        box-shadow: 0px 1px 3px 1px rgba(0, 0, 0, 0.15);\n",
              "        filter: drop-shadow(0px 1px 2px rgba(0, 0, 0, 0.3));\n",
              "        fill: #FFFFFF;\n",
              "      }\n",
              "    </style>\n",
              "    <button class=\"colab-df-generate\" onclick=\"generateWithVariable('newX')\"\n",
              "            title=\"Generate code using this dataframe.\"\n",
              "            style=\"display:none;\">\n",
              "\n",
              "  <svg xmlns=\"http://www.w3.org/2000/svg\" height=\"24px\"viewBox=\"0 0 24 24\"\n",
              "       width=\"24px\">\n",
              "    <path d=\"M7,19H8.4L18.45,9,17,7.55,7,17.6ZM5,21V16.75L18.45,3.32a2,2,0,0,1,2.83,0l1.4,1.43a1.91,1.91,0,0,1,.58,1.4,1.91,1.91,0,0,1-.58,1.4L9.25,21ZM18.45,9,17,7.55Zm-12,3A5.31,5.31,0,0,0,4.9,8.1,5.31,5.31,0,0,0,1,6.5,5.31,5.31,0,0,0,4.9,4.9,5.31,5.31,0,0,0,6.5,1,5.31,5.31,0,0,0,8.1,4.9,5.31,5.31,0,0,0,12,6.5,5.46,5.46,0,0,0,6.5,12Z\"/>\n",
              "  </svg>\n",
              "    </button>\n",
              "    <script>\n",
              "      (() => {\n",
              "      const buttonEl =\n",
              "        document.querySelector('#id_37b8d668-3b7b-4de8-8477-d80bf21e38ad button.colab-df-generate');\n",
              "      buttonEl.style.display =\n",
              "        google.colab.kernel.accessAllowed ? 'block' : 'none';\n",
              "\n",
              "      buttonEl.onclick = () => {\n",
              "        google.colab.notebook.generateWithVariable('newX');\n",
              "      }\n",
              "      })();\n",
              "    </script>\n",
              "  </div>\n",
              "\n",
              "    </div>\n",
              "  </div>\n"
            ],
            "application/vnd.google.colaboratory.intrinsic+json": {
              "type": "dataframe",
              "variable_name": "newX",
              "summary": "{\n  \"name\": \"newX\",\n  \"rows\": 3,\n  \"fields\": [\n    {\n      \"column\": \"intercept\",\n      \"properties\": {\n        \"dtype\": \"number\",\n        \"std\": 0.0,\n        \"min\": 1.0,\n        \"max\": 1.0,\n        \"num_unique_values\": 1,\n        \"samples\": [\n          1.0\n        ],\n        \"semantic_type\": \"\",\n        \"description\": \"\"\n      }\n    },\n    {\n      \"column\": \"lstat\",\n      \"properties\": {\n        \"dtype\": \"number\",\n        \"std\": 5,\n        \"min\": 5,\n        \"max\": 15,\n        \"num_unique_values\": 3,\n        \"samples\": [\n          5\n        ],\n        \"semantic_type\": \"\",\n        \"description\": \"\"\n      }\n    }\n  ]\n}"
            }
          },
          "metadata": {},
          "execution_count": 57
        }
      ],
      "source": [
        "new_df = pd.DataFrame({'lstat':[5, 10, 15]})\n",
        "newX = design.transform(new_df)\n",
        "newX\n"
      ]
    },
    {
      "cell_type": "markdown",
      "id": "43565f15",
      "metadata": {
        "id": "43565f15"
      },
      "source": [
        "Next we compute the predictions at `newX`, and view them by extracting the `predicted_mean` attribute."
      ]
    },
    {
      "cell_type": "code",
      "execution_count": 58,
      "id": "768374f6",
      "metadata": {
        "execution": {
          "iopub.execute_input": "2024-06-04T23:19:08.047996Z",
          "iopub.status.busy": "2024-06-04T23:19:08.047918Z",
          "iopub.status.idle": "2024-06-04T23:19:08.049956Z",
          "shell.execute_reply": "2024-06-04T23:19:08.049747Z"
        },
        "lines_to_next_cell": 0,
        "colab": {
          "base_uri": "https://localhost:8080/",
          "height": 318
        },
        "id": "768374f6",
        "outputId": "4cce2138-4bc0-42a1-ba53-fc448af79ccd"
      },
      "outputs": [
        {
          "output_type": "error",
          "ename": "ValueError",
          "evalue": "shapes (3,2) and (1,) not aligned: 2 (dim 1) != 1 (dim 0)",
          "traceback": [
            "\u001b[0;31m---------------------------------------------------------------------------\u001b[0m",
            "\u001b[0;31mValueError\u001b[0m                                Traceback (most recent call last)",
            "\u001b[0;32m/tmp/ipython-input-988712600.py\u001b[0m in \u001b[0;36m<cell line: 0>\u001b[0;34m()\u001b[0m\n\u001b[0;32m----> 1\u001b[0;31m \u001b[0mnew_predictions\u001b[0m \u001b[0;34m=\u001b[0m \u001b[0mresults\u001b[0m\u001b[0;34m.\u001b[0m\u001b[0mget_prediction\u001b[0m\u001b[0;34m(\u001b[0m\u001b[0mnewX\u001b[0m\u001b[0;34m)\u001b[0m\u001b[0;34m;\u001b[0m\u001b[0;34m\u001b[0m\u001b[0;34m\u001b[0m\u001b[0m\n\u001b[0m\u001b[1;32m      2\u001b[0m \u001b[0mnew_predictions\u001b[0m\u001b[0;34m.\u001b[0m\u001b[0mpredicted_mean\u001b[0m\u001b[0;34m\u001b[0m\u001b[0;34m\u001b[0m\u001b[0m\n",
            "\u001b[0;32m/usr/local/lib/python3.12/dist-packages/statsmodels/regression/linear_model.py\u001b[0m in \u001b[0;36mget_prediction\u001b[0;34m(self, exog, transform, weights, row_labels, **kwargs)\u001b[0m\n\u001b[1;32m   2690\u001b[0m                        row_labels=None, **kwargs):\n\u001b[1;32m   2691\u001b[0m \u001b[0;34m\u001b[0m\u001b[0m\n\u001b[0;32m-> 2692\u001b[0;31m         return pred.get_prediction(\n\u001b[0m\u001b[1;32m   2693\u001b[0m             \u001b[0mself\u001b[0m\u001b[0;34m,\u001b[0m \u001b[0mexog\u001b[0m\u001b[0;34m=\u001b[0m\u001b[0mexog\u001b[0m\u001b[0;34m,\u001b[0m \u001b[0mtransform\u001b[0m\u001b[0;34m=\u001b[0m\u001b[0mtransform\u001b[0m\u001b[0;34m,\u001b[0m \u001b[0mweights\u001b[0m\u001b[0;34m=\u001b[0m\u001b[0mweights\u001b[0m\u001b[0;34m,\u001b[0m\u001b[0;34m\u001b[0m\u001b[0;34m\u001b[0m\u001b[0m\n\u001b[1;32m   2694\u001b[0m             row_labels=row_labels, **kwargs)\n",
            "\u001b[0;32m/usr/local/lib/python3.12/dist-packages/statsmodels/regression/_prediction.py\u001b[0m in \u001b[0;36mget_prediction\u001b[0;34m(self, exog, transform, weights, row_labels, pred_kwds)\u001b[0m\n\u001b[1;32m    196\u001b[0m     \u001b[0;32mif\u001b[0m \u001b[0mpred_kwds\u001b[0m \u001b[0;32mis\u001b[0m \u001b[0;32mNone\u001b[0m\u001b[0;34m:\u001b[0m\u001b[0;34m\u001b[0m\u001b[0;34m\u001b[0m\u001b[0m\n\u001b[1;32m    197\u001b[0m         \u001b[0mpred_kwds\u001b[0m \u001b[0;34m=\u001b[0m \u001b[0;34m{\u001b[0m\u001b[0;34m}\u001b[0m\u001b[0;34m\u001b[0m\u001b[0;34m\u001b[0m\u001b[0m\n\u001b[0;32m--> 198\u001b[0;31m     \u001b[0mpredicted_mean\u001b[0m \u001b[0;34m=\u001b[0m \u001b[0mself\u001b[0m\u001b[0;34m.\u001b[0m\u001b[0mmodel\u001b[0m\u001b[0;34m.\u001b[0m\u001b[0mpredict\u001b[0m\u001b[0;34m(\u001b[0m\u001b[0mself\u001b[0m\u001b[0;34m.\u001b[0m\u001b[0mparams\u001b[0m\u001b[0;34m,\u001b[0m \u001b[0mexog\u001b[0m\u001b[0;34m,\u001b[0m \u001b[0;34m**\u001b[0m\u001b[0mpred_kwds\u001b[0m\u001b[0;34m)\u001b[0m\u001b[0;34m\u001b[0m\u001b[0;34m\u001b[0m\u001b[0m\n\u001b[0m\u001b[1;32m    199\u001b[0m \u001b[0;34m\u001b[0m\u001b[0m\n\u001b[1;32m    200\u001b[0m     \u001b[0mcovb\u001b[0m \u001b[0;34m=\u001b[0m \u001b[0mself\u001b[0m\u001b[0;34m.\u001b[0m\u001b[0mcov_params\u001b[0m\u001b[0;34m(\u001b[0m\u001b[0;34m)\u001b[0m\u001b[0;34m\u001b[0m\u001b[0;34m\u001b[0m\u001b[0m\n",
            "\u001b[0;32m/usr/local/lib/python3.12/dist-packages/statsmodels/regression/linear_model.py\u001b[0m in \u001b[0;36mpredict\u001b[0;34m(self, params, exog)\u001b[0m\n\u001b[1;32m    407\u001b[0m             \u001b[0mexog\u001b[0m \u001b[0;34m=\u001b[0m \u001b[0mself\u001b[0m\u001b[0;34m.\u001b[0m\u001b[0mexog\u001b[0m\u001b[0;34m\u001b[0m\u001b[0;34m\u001b[0m\u001b[0m\n\u001b[1;32m    408\u001b[0m \u001b[0;34m\u001b[0m\u001b[0m\n\u001b[0;32m--> 409\u001b[0;31m         \u001b[0;32mreturn\u001b[0m \u001b[0mnp\u001b[0m\u001b[0;34m.\u001b[0m\u001b[0mdot\u001b[0m\u001b[0;34m(\u001b[0m\u001b[0mexog\u001b[0m\u001b[0;34m,\u001b[0m \u001b[0mparams\u001b[0m\u001b[0;34m)\u001b[0m\u001b[0;34m\u001b[0m\u001b[0;34m\u001b[0m\u001b[0m\n\u001b[0m\u001b[1;32m    410\u001b[0m \u001b[0;34m\u001b[0m\u001b[0m\n\u001b[1;32m    411\u001b[0m     \u001b[0;32mdef\u001b[0m \u001b[0mget_distribution\u001b[0m\u001b[0;34m(\u001b[0m\u001b[0mself\u001b[0m\u001b[0;34m,\u001b[0m \u001b[0mparams\u001b[0m\u001b[0;34m,\u001b[0m \u001b[0mscale\u001b[0m\u001b[0;34m,\u001b[0m \u001b[0mexog\u001b[0m\u001b[0;34m=\u001b[0m\u001b[0;32mNone\u001b[0m\u001b[0;34m,\u001b[0m \u001b[0mdist_class\u001b[0m\u001b[0;34m=\u001b[0m\u001b[0;32mNone\u001b[0m\u001b[0;34m)\u001b[0m\u001b[0;34m:\u001b[0m\u001b[0;34m\u001b[0m\u001b[0;34m\u001b[0m\u001b[0m\n",
            "\u001b[0;31mValueError\u001b[0m: shapes (3,2) and (1,) not aligned: 2 (dim 1) != 1 (dim 0)"
          ]
        }
      ],
      "source": [
        "new_predictions = results.get_prediction(newX);\n",
        "new_predictions.predicted_mean\n"
      ]
    },
    {
      "cell_type": "markdown",
      "id": "313c1720",
      "metadata": {
        "id": "313c1720"
      },
      "source": [
        "We can produce confidence intervals for the predicted values."
      ]
    },
    {
      "cell_type": "code",
      "execution_count": null,
      "id": "1a86b943",
      "metadata": {
        "execution": {
          "iopub.execute_input": "2024-06-04T23:19:08.051110Z",
          "iopub.status.busy": "2024-06-04T23:19:08.051038Z",
          "iopub.status.idle": "2024-06-04T23:19:08.052989Z",
          "shell.execute_reply": "2024-06-04T23:19:08.052779Z"
        },
        "lines_to_next_cell": 0,
        "id": "1a86b943",
        "outputId": "71a282ba-da73-45e8-cf98-1ab951ff86b5"
      },
      "outputs": [
        {
          "data": {
            "text/plain": [
              "array([[29.00741194, 30.59977628],\n",
              "       [24.47413202, 25.63256267],\n",
              "       [19.73158815, 20.87461299]])"
            ]
          },
          "execution_count": 40,
          "metadata": {},
          "output_type": "execute_result"
        }
      ],
      "source": [
        "new_predictions.conf_int(alpha=0.05)\n"
      ]
    },
    {
      "cell_type": "markdown",
      "id": "3595344e",
      "metadata": {
        "id": "3595344e"
      },
      "source": [
        "Prediction intervals are computing by setting `obs=True`:"
      ]
    },
    {
      "cell_type": "code",
      "execution_count": null,
      "id": "ea9727ca",
      "metadata": {
        "execution": {
          "iopub.execute_input": "2024-06-04T23:19:08.054282Z",
          "iopub.status.busy": "2024-06-04T23:19:08.054215Z",
          "iopub.status.idle": "2024-06-04T23:19:08.056172Z",
          "shell.execute_reply": "2024-06-04T23:19:08.055964Z"
        },
        "lines_to_next_cell": 0,
        "id": "ea9727ca",
        "outputId": "967ac7a7-8b75-4e8a-8469-ca5ec415685c"
      },
      "outputs": [
        {
          "data": {
            "text/plain": [
              "array([[17.56567478, 42.04151344],\n",
              "       [12.82762635, 37.27906833],\n",
              "       [ 8.0777421 , 32.52845905]])"
            ]
          },
          "execution_count": 41,
          "metadata": {},
          "output_type": "execute_result"
        }
      ],
      "source": [
        "new_predictions.conf_int(obs=True, alpha=0.05)\n"
      ]
    },
    {
      "cell_type": "markdown",
      "id": "b157334d",
      "metadata": {
        "id": "b157334d"
      },
      "source": [
        " For instance, the 95% confidence interval associated with an\n",
        " `lstat`  value of 10 is (24.47, 25.63), and the 95% prediction\n",
        "interval is (12.82, 37.28).  As expected, the confidence and\n",
        "prediction intervals are centered around the same point (a predicted\n",
        "value of 25.05 for  `medv`  when  `lstat`  equals\n",
        "10), but the latter are substantially wider.\n",
        "\n",
        "Next we will plot  `medv`  and  `lstat`\n",
        "using `DataFrame.plot.scatter()`, \\definelongblankMR{plot.scatter()}{plot.slashslashscatter()}\n",
        "and wish to\n",
        "add the regression line to the resulting plot."
      ]
    },
    {
      "cell_type": "markdown",
      "id": "05f5b29a",
      "metadata": {
        "id": "05f5b29a"
      },
      "source": [
        "### Defining Functions\n",
        "While there is a function\n",
        "within the `ISLP` package that adds a line to an existing plot, we take this opportunity\n",
        "to define our first function to do so."
      ]
    },
    {
      "cell_type": "code",
      "execution_count": null,
      "id": "796c20f6",
      "metadata": {
        "execution": {
          "iopub.execute_input": "2024-06-04T23:19:08.057406Z",
          "iopub.status.busy": "2024-06-04T23:19:08.057339Z",
          "iopub.status.idle": "2024-06-04T23:19:08.059024Z",
          "shell.execute_reply": "2024-06-04T23:19:08.058807Z"
        },
        "lines_to_next_cell": 0,
        "id": "796c20f6"
      },
      "outputs": [],
      "source": [
        "def abline(ax, b, m):\n",
        "    \"Add a line with slope m and intercept b to ax\"\n",
        "    xlim = ax.get_xlim()\n",
        "    ylim = [m * xlim[0] + b, m * xlim[1] + b]\n",
        "    ax.plot(xlim, ylim)\n"
      ]
    },
    {
      "cell_type": "markdown",
      "id": "5eb99e73",
      "metadata": {
        "id": "5eb99e73"
      },
      "source": [
        " A few things are illustrated above. First we see the syntax for defining a function:\n",
        "`def funcname(...)`. The function has arguments `ax, b, m`\n",
        "where `ax` is an axis object for an exisiting plot, `b` is the intercept and\n",
        "`m` is the slope of the desired line. Other plotting  options can be passed on to\n",
        "`ax.plot` by including additional optional arguments as follows:"
      ]
    },
    {
      "cell_type": "code",
      "execution_count": null,
      "id": "a258b8c0",
      "metadata": {
        "execution": {
          "iopub.execute_input": "2024-06-04T23:19:08.060183Z",
          "iopub.status.busy": "2024-06-04T23:19:08.060117Z",
          "iopub.status.idle": "2024-06-04T23:19:08.061624Z",
          "shell.execute_reply": "2024-06-04T23:19:08.061396Z"
        },
        "lines_to_next_cell": 0,
        "id": "a258b8c0"
      },
      "outputs": [],
      "source": [
        "def abline(ax, b, m, *args, **kwargs):\n",
        "    \"Add a line with slope m and intercept b to ax\"\n",
        "    xlim = ax.get_xlim()\n",
        "    ylim = [m * xlim[0] + b, m * xlim[1] + b]\n",
        "    ax.plot(xlim, ylim, *args, **kwargs)\n"
      ]
    },
    {
      "cell_type": "markdown",
      "id": "be8f4615",
      "metadata": {
        "id": "be8f4615"
      },
      "source": [
        "The addition of `*args` allows any number of\n",
        "non-named arguments to `abline`, while `*kwargs` allows any\n",
        "number of named arguments (such as `linewidth=3`) to `abline`.\n",
        "In our function, we pass\n",
        "these arguments verbatim to `ax.plot` above. Readers\n",
        "interested in learning more about\n",
        "functions are referred to the section on\n",
        "defining functions in [docs.python.org/tutorial](https://docs.python.org/3/tutorial/controlflow.html#defining-functions).\n",
        "\n",
        "Let’s use our new function to add this regression line to a plot of\n",
        "`medv` vs. `lstat`."
      ]
    },
    {
      "cell_type": "code",
      "execution_count": null,
      "id": "56b75491",
      "metadata": {
        "execution": {
          "iopub.execute_input": "2024-06-04T23:19:08.062821Z",
          "iopub.status.busy": "2024-06-04T23:19:08.062745Z",
          "iopub.status.idle": "2024-06-04T23:19:08.177528Z",
          "shell.execute_reply": "2024-06-04T23:19:08.175973Z"
        },
        "lines_to_next_cell": 0,
        "id": "56b75491",
        "outputId": "0b8dc23c-fe4e-4a1b-de57-ce9cc1ea478c"
      },
      "outputs": [
        {
          "data": {
            "image/png": "[encoded data removed]",
            "text/plain": [
              "<Figure size 640x480 with 1 Axes>"
            ]
          },
          "metadata": {},
          "output_type": "display_data"
        }
      ],
      "source": [
        "ax = Boston.plot.scatter('lstat', 'medv')\n",
        "abline(ax,\n",
        "       results.params[0],\n",
        "       results.params[1],\n",
        "       'r--',\n",
        "       linewidth=3)\n"
      ]
    },
    {
      "cell_type": "markdown",
      "id": "04a1e56f",
      "metadata": {
        "id": "04a1e56f"
      },
      "source": [
        "Thus, the final call to `ax.plot()` is `ax.plot(xlim, ylim, 'r--', linewidth=3)`.\n",
        "We have used the argument `'r--'` to produce a red dashed line, and added\n",
        "an argument to make it of width 3.\n",
        "There is some evidence for non-linearity in the relationship between  `lstat`  and  `medv`. We will explore this issue later in this lab.\n",
        "\n",
        "As mentioned above, there is an existing function to add a line to a plot --- `ax.axline()` --- but knowing how to write such functions empowers us to create more expressive displays.\n",
        "\n"
      ]
    },
    {
      "cell_type": "markdown",
      "id": "1a083307",
      "metadata": {
        "id": "1a083307"
      },
      "source": [
        "Next we examine some diagnostic plots, several of which were discussed\n",
        "in Section~\\ref{Ch3:problems.sec}.\n",
        "We can find the fitted values and residuals\n",
        "of the fit as attributes of the `results` object.\n",
        "Various influence measures describing the regression model\n",
        "are computed with the `get_influence()` method.\n",
        "As we will not use the `fig` component returned\n",
        "as the first value from `subplots()`, we simply\n",
        "capture the second returned value in `ax` below."
      ]
    },
    {
      "cell_type": "code",
      "execution_count": null,
      "id": "74be2100",
      "metadata": {
        "execution": {
          "iopub.execute_input": "2024-06-04T23:19:08.180863Z",
          "iopub.status.busy": "2024-06-04T23:19:08.180691Z",
          "iopub.status.idle": "2024-06-04T23:19:08.331926Z",
          "shell.execute_reply": "2024-06-04T23:19:08.331152Z"
        },
        "lines_to_next_cell": 0,
        "id": "74be2100",
        "outputId": "4fd783ab-2b27-48ce-9e37-47b1969780d7"
      },
      "outputs": [
        {
          "data": {
            "image/png": "[encoded data removed]",
            "text/plain": [
              "<Figure size 800x800 with 1 Axes>"
            ]
          },
          "metadata": {},
          "output_type": "display_data"
        }
      ],
      "source": [
        "ax = subplots(figsize=(8,8))[1]\n",
        "ax.scatter(results.fittedvalues, results.resid)\n",
        "ax.set_xlabel('Fitted value')\n",
        "ax.set_ylabel('Residual')\n",
        "ax.axhline(0, c='k', ls='--');\n"
      ]
    },
    {
      "cell_type": "markdown",
      "id": "c00db5a1",
      "metadata": {
        "id": "c00db5a1"
      },
      "source": [
        " We add a horizontal line at 0 for reference using the\n",
        " `ax.axhline()`   method, indicating\n",
        "it should be black (`c='k'`) and have a dashed linestyle (`ls='--'`).\n",
        "\n",
        "On the basis of the residual plot, there is some evidence of non-linearity.\n",
        "Leverage statistics can be computed for any number of predictors using the\n",
        "`hat_matrix_diag` attribute of the value returned by the\n",
        "`get_influence()`  method."
      ]
    },
    {
      "cell_type": "code",
      "execution_count": null,
      "id": "db8bc925",
      "metadata": {
        "execution": {
          "iopub.execute_input": "2024-06-04T23:19:08.334603Z",
          "iopub.status.busy": "2024-06-04T23:19:08.334424Z",
          "iopub.status.idle": "2024-06-04T23:19:08.403949Z",
          "shell.execute_reply": "2024-06-04T23:19:08.403703Z"
        },
        "lines_to_next_cell": 0,
        "id": "db8bc925"
      },
      "outputs": [],
      "source": [
        "infl = results.get_influence()\n",
        "ax = subplots(figsize=(8,8))[1]\n",
        "ax.scatter(np.arange(X.shape[0]), infl.hat_matrix_diag)\n",
        "ax.set_xlabel('Index')\n",
        "ax.set_ylabel('Leverage')\n",
        "np.argmax(infl.hat_matrix_diag)\n"
      ]
    },
    {
      "cell_type": "markdown",
      "id": "4e7aa0bb",
      "metadata": {
        "id": "4e7aa0bb"
      },
      "source": [
        " The `np.argmax()`  function identifies the index of the largest element of an array, optionally computed over an axis of the array.\n",
        "In this case, we maximized over the entire array\n",
        "to determine which observation has the largest leverage statistic."
      ]
    },
    {
      "cell_type": "markdown",
      "id": "e98db373",
      "metadata": {
        "id": "e98db373"
      },
      "source": [
        "## Multiple Linear Regression\n",
        "In order to fit a multiple linear regression model using least squares, we again use\n",
        "the `ModelSpec()`  transform to construct the required\n",
        "model matrix and response. The arguments\n",
        "to `ModelSpec()` can be quite general, but in this case\n",
        "a list of column names suffice. We consider a fit here with\n",
        "the two variables `lstat` and `age`."
      ]
    },
    {
      "cell_type": "code",
      "execution_count": null,
      "id": "e479373c",
      "metadata": {
        "execution": {
          "iopub.execute_input": "2024-06-04T23:19:08.405606Z",
          "iopub.status.busy": "2024-06-04T23:19:08.405477Z",
          "iopub.status.idle": "2024-06-04T23:19:08.415531Z",
          "shell.execute_reply": "2024-06-04T23:19:08.415300Z"
        },
        "lines_to_next_cell": 0,
        "id": "e479373c"
      },
      "outputs": [],
      "source": [
        "X = MS(['lstat', 'age']).fit_transform(Boston)\n",
        "model1 = sm.OLS(y, X)\n",
        "results1 = model1.fit()\n",
        "summarize(results1)"
      ]
    },
    {
      "cell_type": "markdown",
      "id": "5c79b00d",
      "metadata": {
        "id": "5c79b00d"
      },
      "source": [
        "Notice how we have compacted the first line into a succinct expression describing the construction of `X`.\n",
        "\n",
        "The  `Boston`   data set contains 12 variables, and so it would be cumbersome\n",
        "to have to type all of these in order to perform a regression using all of the predictors.\n",
        "Instead, we can use the following short-hand:\\definelongblankMR{columns.drop()}{columns.slashslashdrop()}"
      ]
    },
    {
      "cell_type": "code",
      "execution_count": null,
      "id": "b903170c",
      "metadata": {
        "execution": {
          "iopub.execute_input": "2024-06-04T23:19:08.416871Z",
          "iopub.status.busy": "2024-06-04T23:19:08.416798Z",
          "iopub.status.idle": "2024-06-04T23:19:08.418929Z",
          "shell.execute_reply": "2024-06-04T23:19:08.418717Z"
        },
        "id": "b903170c"
      },
      "outputs": [],
      "source": [
        "terms = Boston.columns.drop('medv')\n",
        "terms\n"
      ]
    },
    {
      "cell_type": "markdown",
      "id": "179b7846",
      "metadata": {
        "id": "179b7846"
      },
      "source": [
        "We can now fit the model with all the variables in `terms` using\n",
        "the same model matrix builder."
      ]
    },
    {
      "cell_type": "code",
      "execution_count": null,
      "id": "bbe47670",
      "metadata": {
        "execution": {
          "iopub.execute_input": "2024-06-04T23:19:08.420168Z",
          "iopub.status.busy": "2024-06-04T23:19:08.420092Z",
          "iopub.status.idle": "2024-06-04T23:19:08.434050Z",
          "shell.execute_reply": "2024-06-04T23:19:08.433809Z"
        },
        "id": "bbe47670"
      },
      "outputs": [],
      "source": [
        "X = MS(terms).fit_transform(Boston)\n",
        "model = sm.OLS(y, X)\n",
        "results = model.fit()\n",
        "summarize(results)\n"
      ]
    },
    {
      "cell_type": "markdown",
      "id": "183c3c40",
      "metadata": {
        "id": "183c3c40"
      },
      "source": [
        "What if we would like to perform a regression using all of the variables but one?  For\n",
        "example, in the above regression output,   `age`  has a high $p$-value.\n",
        "So we may wish to run a regression excluding this predictor.\n",
        "The following syntax results in a regression using all predictors except  `age`."
      ]
    },
    {
      "cell_type": "code",
      "execution_count": null,
      "id": "a1484d00",
      "metadata": {
        "execution": {
          "iopub.execute_input": "2024-06-04T23:19:08.435432Z",
          "iopub.status.busy": "2024-06-04T23:19:08.435353Z",
          "iopub.status.idle": "2024-06-04T23:19:08.448669Z",
          "shell.execute_reply": "2024-06-04T23:19:08.448429Z"
        },
        "id": "a1484d00"
      },
      "outputs": [],
      "source": [
        "minus_age = Boston.columns.drop(['medv', 'age'])\n",
        "Xma = MS(minus_age).fit_transform(Boston)\n",
        "model1 = sm.OLS(y, Xma)\n",
        "summarize(model1.fit())\n"
      ]
    },
    {
      "cell_type": "markdown",
      "id": "74ec4654",
      "metadata": {
        "id": "74ec4654"
      },
      "source": [
        "## Multivariate Goodness of Fit\n",
        "We can access the individual components of `results` by name\n",
        "(`dir(results)` shows us what is available). Hence\n",
        "`results.rsquared` gives us the $R^2$,\n",
        "and\n",
        "`np.sqrt(results.scale)` gives us the RSE.\n",
        "\n",
        "Variance inflation factors (section~\\ref{Ch3:problems.sec}) are sometimes useful\n",
        "to assess the effect of collinearity in the model matrix of a regression model.\n",
        "We will compute the VIFs in our multiple regression fit, and use the opportunity to introduce the idea of *list comprehension*.\n",
        "\n",
        "### List Comprehension\n",
        "Often we encounter a sequence of objects which we would like to transform\n",
        "for some other task. Below, we compute the VIF for each\n",
        "feature in our `X` matrix and produce a data frame\n",
        "whose index agrees with the columns of `X`.\n",
        "The notion of list comprehension can often make such\n",
        "a task easier.\n",
        "\n",
        "List comprehensions are simple and powerful ways to form\n",
        "lists of `Python` objects. The language also supports\n",
        "dictionary and *generator* comprehension, though these are\n",
        "beyond our scope here. Let's look at an example. We compute the VIF for each of the variables\n",
        "in the model matrix `X`, using the function `variance_inflation_factor()`.\n"
      ]
    },
    {
      "cell_type": "code",
      "execution_count": null,
      "id": "46ac946c",
      "metadata": {
        "execution": {
          "iopub.execute_input": "2024-06-04T23:19:08.449986Z",
          "iopub.status.busy": "2024-06-04T23:19:08.449918Z",
          "iopub.status.idle": "2024-06-04T23:19:08.455447Z",
          "shell.execute_reply": "2024-06-04T23:19:08.455211Z"
        },
        "lines_to_next_cell": 0,
        "id": "46ac946c"
      },
      "outputs": [],
      "source": [
        "vals = [VIF(X, i)\n",
        "        for i in range(1, X.shape[1])]\n",
        "vif = pd.DataFrame({'vif':vals},\n",
        "                   index=X.columns[1:])\n",
        "vif\n"
      ]
    },
    {
      "cell_type": "markdown",
      "id": "45a29903",
      "metadata": {
        "id": "45a29903"
      },
      "source": [
        "The function `VIF()` takes two arguments: a dataframe or array,\n",
        "and a variable column index. In the code above we call `VIF()` on the fly for all columns in `X`.  \n",
        "We have excluded column 0 above (the intercept), which is not of interest. In this case the VIFs are not that exciting.\n",
        "\n",
        "The object `vals` above could have been constructed with the following for loop:"
      ]
    },
    {
      "cell_type": "code",
      "execution_count": null,
      "id": "b626ecb9",
      "metadata": {
        "execution": {
          "iopub.execute_input": "2024-06-04T23:19:08.456814Z",
          "iopub.status.busy": "2024-06-04T23:19:08.456747Z",
          "iopub.status.idle": "2024-06-04T23:19:08.461039Z",
          "shell.execute_reply": "2024-06-04T23:19:08.460801Z"
        },
        "lines_to_next_cell": 0,
        "id": "b626ecb9"
      },
      "outputs": [],
      "source": [
        "vals = []\n",
        "for i in range(1, X.values.shape[1]):\n",
        "    vals.append(VIF(X.values, i))\n"
      ]
    },
    {
      "cell_type": "markdown",
      "id": "6e504ae2",
      "metadata": {
        "id": "6e504ae2"
      },
      "source": [
        "List comprehension allows us to perform such repetitive operations in a more straightforward way.\n",
        "## Interaction Terms\n",
        "It is easy to include interaction terms in a linear model using `ModelSpec()`.\n",
        "Including a tuple `(\"lstat\",\"age\")` tells the model\n",
        "matrix builder to include an interaction term between\n",
        " `lstat`  and  `age`."
      ]
    },
    {
      "cell_type": "code",
      "execution_count": null,
      "id": "8bf77477",
      "metadata": {
        "execution": {
          "iopub.execute_input": "2024-06-04T23:19:08.462456Z",
          "iopub.status.busy": "2024-06-04T23:19:08.462383Z",
          "iopub.status.idle": "2024-06-04T23:19:08.473081Z",
          "shell.execute_reply": "2024-06-04T23:19:08.472857Z"
        },
        "lines_to_next_cell": 2,
        "id": "8bf77477"
      },
      "outputs": [],
      "source": [
        "X = MS(['lstat',\n",
        "        'age',\n",
        "        ('lstat', 'age')]).fit_transform(Boston)\n",
        "model2 = sm.OLS(y, X)\n",
        "summarize(model2.fit())\n"
      ]
    },
    {
      "cell_type": "markdown",
      "id": "e2323ab9",
      "metadata": {
        "id": "e2323ab9"
      },
      "source": [
        "## Non-linear Transformations of the Predictors\n",
        "The model matrix builder can include terms beyond\n",
        "just column names and interactions. For instance,\n",
        "the `poly()` function supplied in `ISLP` specifies that\n",
        "columns representing polynomial functions\n",
        "of its first argument are added to the model matrix."
      ]
    },
    {
      "cell_type": "code",
      "execution_count": null,
      "id": "6289c3cb",
      "metadata": {
        "execution": {
          "iopub.execute_input": "2024-06-04T23:19:08.474420Z",
          "iopub.status.busy": "2024-06-04T23:19:08.474348Z",
          "iopub.status.idle": "2024-06-04T23:19:08.484309Z",
          "shell.execute_reply": "2024-06-04T23:19:08.484088Z"
        },
        "lines_to_next_cell": 0,
        "id": "6289c3cb"
      },
      "outputs": [],
      "source": [
        "X = MS([poly('lstat', degree=2), 'age']).fit_transform(Boston)\n",
        "model3 = sm.OLS(y, X)\n",
        "results3 = model3.fit()\n",
        "summarize(results3)\n"
      ]
    },
    {
      "cell_type": "markdown",
      "id": "2bd67b14",
      "metadata": {
        "id": "2bd67b14"
      },
      "source": [
        "The effectively zero *p*-value associated with the quadratic term\n",
        "(i.e. the third row above) suggests that it leads to an improved model.\n",
        "\n",
        "By default, `poly()` creates a basis matrix for inclusion in the\n",
        "model matrix whose\n",
        "columns are *orthogonal polynomials*, which are designed for stable\n",
        "least squares computations. {Actually, `poly()` is a  wrapper for the workhorse and standalone  function `Poly()` that does the  work in building the model matrix.}\n",
        "Alternatively, had we included an argument\n",
        "`raw=True` in the above call to `poly()`, the basis matrix would consist simply of\n",
        "`lstat` and `lstat**2`. Since either of these bases\n",
        "represent quadratic polynomials, the fitted values  would not\n",
        "change in this case, just the polynomial coefficients.  Also by default, the columns\n",
        "created by `poly()` do not include an intercept column as\n",
        "that is automatically added by `MS()`.\n",
        "\n",
        "We use the `anova_lm()` function to further quantify the extent to which the quadratic fit is\n",
        "superior to the linear fit."
      ]
    },
    {
      "cell_type": "code",
      "execution_count": null,
      "id": "b6542ac6",
      "metadata": {
        "execution": {
          "iopub.execute_input": "2024-06-04T23:19:08.485627Z",
          "iopub.status.busy": "2024-06-04T23:19:08.485562Z",
          "iopub.status.idle": "2024-06-04T23:19:08.489875Z",
          "shell.execute_reply": "2024-06-04T23:19:08.489670Z"
        },
        "lines_to_next_cell": 0,
        "id": "b6542ac6"
      },
      "outputs": [],
      "source": [
        "anova_lm(results1, results3)\n"
      ]
    },
    {
      "cell_type": "markdown",
      "id": "3685159a",
      "metadata": {
        "id": "3685159a"
      },
      "source": [
        "Here `results1` represents the linear submodel containing\n",
        "predictors `lstat` and `age`,\n",
        "while `results3` corresponds to the larger model above  with a quadratic\n",
        "term in `lstat`.\n",
        "The `anova_lm()` function performs a hypothesis test\n",
        "comparing the two models. The null hypothesis is that the quadratic\n",
        "term in the bigger model is not needed, and the alternative hypothesis is that the\n",
        "bigger model is superior. Here the *F*-statistic is 177.28 and\n",
        "the associated *p*-value is zero.\n",
        "In this case the *F*-statistic is the square of the\n",
        "*t*-statistic for the quadratic term in the linear model summary\n",
        "for `results3` --- a consequence of the fact that these nested\n",
        "models differ by one degree of freedom.\n",
        "This provides very clear evidence that the quadratic polynomial in\n",
        "`lstat` improves the linear model.\n",
        "This is not surprising, since earlier we saw evidence for non-linearity in the relationship between `medv`\n",
        "and  `lstat`.\n",
        "\n",
        "The function `anova_lm()` can take more than two nested models\n",
        "as input, in which case it compares every successive pair of models.\n",
        "That also explains why their are `NaN`s in the first row above, since\n",
        "there is no previous model with which to compare the first.\n"
      ]
    },
    {
      "cell_type": "code",
      "execution_count": null,
      "id": "8e4c6004",
      "metadata": {
        "execution": {
          "iopub.execute_input": "2024-06-04T23:19:08.491175Z",
          "iopub.status.busy": "2024-06-04T23:19:08.491086Z",
          "iopub.status.idle": "2024-06-04T23:19:08.560976Z",
          "shell.execute_reply": "2024-06-04T23:19:08.560698Z"
        },
        "lines_to_next_cell": 0,
        "id": "8e4c6004"
      },
      "outputs": [],
      "source": [
        "ax = subplots(figsize=(8,8))[1]\n",
        "ax.scatter(results3.fittedvalues, results3.resid)\n",
        "ax.set_xlabel('Fitted value')\n",
        "ax.set_ylabel('Residual')\n",
        "ax.axhline(0, c='k', ls='--');\n"
      ]
    },
    {
      "cell_type": "markdown",
      "id": "3c7e0661",
      "metadata": {
        "id": "3c7e0661"
      },
      "source": [
        "We see that when the quadratic term is included in the model,\n",
        "there is little discernible pattern in the residuals.\n",
        "In order to create a cubic or higher-degree polynomial fit, we can simply change the degree argument\n",
        "to `poly()`.\n"
      ]
    },
    {
      "cell_type": "markdown",
      "id": "46a4967d",
      "metadata": {
        "id": "46a4967d"
      },
      "source": [
        "## Qualitative Predictors\n",
        "Here we use the  `Carseats`  data, which is included in the\n",
        "`ISLP` package. We will  attempt to predict `Sales`\n",
        "(child car seat sales) in 400 locations based on a number of\n",
        "predictors."
      ]
    },
    {
      "cell_type": "code",
      "execution_count": null,
      "id": "a83f4bd2",
      "metadata": {
        "execution": {
          "iopub.execute_input": "2024-06-04T23:19:08.562367Z",
          "iopub.status.busy": "2024-06-04T23:19:08.562269Z",
          "iopub.status.idle": "2024-06-04T23:19:08.565879Z",
          "shell.execute_reply": "2024-06-04T23:19:08.565674Z"
        },
        "lines_to_next_cell": 0,
        "id": "a83f4bd2"
      },
      "outputs": [],
      "source": [
        "Carseats = load_data('Carseats')\n",
        "Carseats.columns\n"
      ]
    },
    {
      "cell_type": "markdown",
      "id": "69025ecd",
      "metadata": {
        "id": "69025ecd"
      },
      "source": [
        "The `Carseats`  \n",
        " data includes qualitative predictors such as\n",
        " `ShelveLoc`, an indicator of the quality of the shelving\n",
        " location --- that is,\n",
        "the  space within a store in which the car seat is displayed. The predictor\n",
        " `ShelveLoc`  takes on three possible values, `Bad`, `Medium`, and `Good`.\n",
        "Given a qualitative variable such as  `ShelveLoc`, `ModelSpec()` generates dummy\n",
        "variables automatically.\n",
        "These variables are often referred to as a *one-hot encoding* of the categorical\n",
        "feature. Their columns sum to one, so to avoid collinearity with an intercept, the first column is dropped. Below we see\n",
        "the column `ShelveLoc[Bad]` has been dropped, since `Bad` is the first level of `ShelveLoc`.\n",
        "Below we fit a multiple regression model that includes some interaction terms."
      ]
    },
    {
      "cell_type": "code",
      "execution_count": null,
      "id": "24efc6f1",
      "metadata": {
        "execution": {
          "iopub.execute_input": "2024-06-04T23:19:08.567067Z",
          "iopub.status.busy": "2024-06-04T23:19:08.566984Z",
          "iopub.status.idle": "2024-06-04T23:19:08.585971Z",
          "shell.execute_reply": "2024-06-04T23:19:08.585717Z"
        },
        "lines_to_next_cell": 0,
        "id": "24efc6f1"
      },
      "outputs": [],
      "source": [
        "allvars = list(Carseats.columns.drop('Sales'))\n",
        "y = Carseats['Sales']\n",
        "final = allvars + [('Income', 'Advertising'),\n",
        "                   ('Price', 'Age')]\n",
        "X = MS(final).fit_transform(Carseats)\n",
        "model = sm.OLS(y, X)\n",
        "summarize(model.fit())\n"
      ]
    },
    {
      "cell_type": "markdown",
      "id": "a8a76419",
      "metadata": {
        "id": "a8a76419"
      },
      "source": [
        "In the first line above, we made `allvars` a list, so that we\n",
        "could add the interaction terms two lines down.\n",
        "Our model-matrix builder has created a `ShelveLoc[Good]`\n",
        "dummy variable that takes on a value of 1 if the\n",
        "shelving location is good, and 0 otherwise. It has also created a `ShelveLoc[Medium]`\n",
        "dummy variable that equals 1 if the shelving location is medium, and 0 otherwise.\n",
        "A bad shelving location corresponds to a zero for each of the two dummy variables.\n",
        "The fact that the coefficient for `ShelveLoc[Good]` in the regression output is\n",
        "positive indicates that a good shelving location is associated with high sales (relative to a bad location).\n",
        "And `ShelveLoc[Medium]` has a smaller positive coefficient,\n",
        "indicating that a medium shelving location leads to higher sales than a bad\n",
        "shelving location, but lower sales than a good shelving location.\n",
        "\n"
      ]
    }
  ],
  "metadata": {
    "jupytext": {
      "cell_metadata_filter": "-all",
      "main_language": "python",
      "notebook_metadata_filter": "-all"
    },
    "kernelspec": {
      "display_name": "myenv",
      "language": "python",
      "name": "myenv"
    },
    "language_info": {
      "codemirror_mode": {
        "name": "ipython",
        "version": 3
      },
      "file_extension": ".py",
      "mimetype": "text/x-python",
      "name": "python",
      "nbconvert_exporter": "python",
      "pygments_lexer": "ipython3",
      "version": "3.7.7"
    },
    "colab": {
      "provenance": []
    }
  },
  "nbformat": 4,
  "nbformat_minor": 5
}